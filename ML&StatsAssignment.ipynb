{
 "cells": [
  {
   "cell_type": "markdown",
   "metadata": {},
   "source": [
    "# Machine Learning and Statistics Assignment, 2020"
   ]
  },
  {
   "cell_type": "markdown",
   "metadata": {},
   "source": [
    "## Task 1\n",
    "The first task is to write a Python function called `sqrt2` that returns the square root of 2 to 100 decimal spaces without making use of any imported modules. \n",
    "\n",
    "There are several known methods [1]. Here, we will look at two methods."
   ]
  },
  {
   "cell_type": "markdown",
   "metadata": {},
   "source": [
    "### Method 1: Newton's Method\n",
    "This method is thought to date back to the Babylonians circa 1000 BC [2]. It determines the square root of a number with increasing accuracy through each iteration. This is achieved in the following way [3]:\n",
    "\n",
    "1. **Make a reasonable guess for the square root**\n",
    "\n",
    "   A reasonable way would be to identify the nearest whole integer that, when squared, comes closest to the value  under investigation. The following piece of `code` demonstrates:"
   ]
  },
  {
   "cell_type": "code",
   "execution_count": 1,
   "metadata": {},
   "outputs": [],
   "source": [
    "#Find largest integer n whose square is less than the number under investigation, in this case, 10\n",
    "\n",
    "# Value of number for which square root is sought\n",
    "num = 20\n",
    "\n",
    "# Variable to contain answer\n",
    "nearestValue = 0\n",
    "\n",
    "# Loop through all options until exact integer found, or i*i > num \n",
    "for i in range(num):\n",
    "    if i*i < num:\n",
    "        continue\n",
    "    if i*i == num:\n",
    "        nearestValue = i\n",
    "        break\n",
    "    if i*i > num:\n",
    "        nearestValue = i-1\n",
    "        break\n",
    "        \n",
    "# Prevent instances where nearestValue = 0\n",
    "if nearestValue == 0:\n",
    "    nearestValue = 1"
   ]
  },
  {
   "cell_type": "code",
   "execution_count": 2,
   "metadata": {},
   "outputs": [
    {
     "name": "stdout",
     "output_type": "stream",
     "text": [
      "The nearest value which when squared is less than the number under investigation is:  4\n"
     ]
    }
   ],
   "source": [
    "# Print largest integer \n",
    "print(\"The nearest value which when squared is less than the number under investigation is: \", nearestValue)"
   ]
  },
  {
   "cell_type": "markdown",
   "metadata": {},
   "source": [
    "2. **Increase the precision of the approximate guess**\n",
    "\n",
    "   Add the above guessed root value to the original number under investigation, divide this value by the guessed root value, and divide this final figure by 2"
   ]
  },
  {
   "cell_type": "code",
   "execution_count": 3,
   "metadata": {},
   "outputs": [
    {
     "data": {
      "text/plain": [
       "4.5"
      ]
     },
     "execution_count": 3,
     "metadata": {},
     "output_type": "execute_result"
    }
   ],
   "source": [
    "# Increase the precision of the answer from the previous step\n",
    "nextNum = (nearestValue + (num/nearestValue))/2\n",
    "\n",
    "nextNum"
   ]
  },
  {
   "cell_type": "markdown",
   "metadata": {},
   "source": [
    "3. **Repeat until the desired precision is achieved**\n",
    "\n",
    "   The `nextNum` value from step 2 gets reused in the calculation as the next best approximate guess until the desired precision of answer is achieved"
   ]
  },
  {
   "cell_type": "code",
   "execution_count": 4,
   "metadata": {},
   "outputs": [
    {
     "data": {
      "text/plain": [
       "4.472222222222222"
      ]
     },
     "execution_count": 4,
     "metadata": {},
     "output_type": "execute_result"
    }
   ],
   "source": [
    "# Use the previous answer as the next value in the equation\n",
    "nearestValue = nextNum\n",
    "\n",
    "# Repeat the equation\n",
    "nextNum = (nearestValue + (num/nearestValue))/2\n",
    "\n",
    "nextNum"
   ]
  },
  {
   "cell_type": "markdown",
   "metadata": {},
   "source": [
    "These steps can be placed into a single Python `function` [3]. In this example, the user can adapt the precision as needed."
   ]
  },
  {
   "cell_type": "code",
   "execution_count": 5,
   "metadata": {},
   "outputs": [
    {
     "name": "stdout",
     "output_type": "stream",
     "text": [
      "The square root of 2 to the precision of 1e-10 decimal spaces is 1.4142135623746899\n"
     ]
    }
   ],
   "source": [
    "# Define variables\n",
    "precision = 10 ** (-10) # Specify number of decimal spaces\n",
    "num = 2 # Specify the number of which square root is sought\n",
    "\n",
    "# Create function\n",
    "def sqrtNewton(num):\n",
    "    # Find nearest value as starting guesstimate\n",
    "    nearestValue = 0\n",
    "    \n",
    "    for i in range(num):\n",
    "        if i*i < num:\n",
    "            continue\n",
    "        if i*i == num:\n",
    "            nearestValue = i\n",
    "            break\n",
    "        if i*i > num:\n",
    "            nearestValue = i-1\n",
    "            break\n",
    "    \n",
    "    # Prevent instances where nearestValue = 0\n",
    "    if nearestValue == 0:\n",
    "        nearestValue = 1\n",
    "        \n",
    "    # Loop through the equation until value with desired precision is identified\n",
    "    while abs(num - (nearestValue * nearestValue)) > precision:\n",
    "        nearestValue = (nearestValue + (num / nearestValue)) / 2\n",
    "    \n",
    "    # Return the value to the specified precision\n",
    "    return nearestValue\n",
    "\n",
    "#Print result\n",
    "print(\"The square root of\", num, \"to the precision of\", precision, \"decimal spaces is\", sqrtNewton(num))\n"
   ]
  },
  {
   "cell_type": "markdown",
   "metadata": {},
   "source": [
    "The problem here is that the display does not show beyond the 16th decimal space. The Python `decimal` module allows specifying the number of decimal spaces to display [4]; however, the instructions for this task clearly stated that no imported modules are to be used. This is where the second method comes in."
   ]
  },
  {
   "cell_type": "markdown",
   "metadata": {},
   "source": [
    "## Method 2: Long Division Algorithm\n",
    "This method makes use of long division calculations by hand to determine each successive number in a square root answer [5]. Because it allows determining each number in turn, it can be used to create a string of undetermined length without the limitation of decimal spaces display that is inherent in method 1. There are several steps involved:\n",
    "\n",
    "1. **Seperate the digits into pairs**\n",
    "Need to "
   ]
  },
  {
   "cell_type": "code",
   "execution_count": null,
   "metadata": {},
   "outputs": [],
   "source": []
  },
  {
   "cell_type": "markdown",
   "metadata": {},
   "source": [
    "2. **Find the largest integer**\n",
    "\n",
    "As before, this can be done with a `for` loop."
   ]
  },
  {
   "cell_type": "code",
   "execution_count": 6,
   "metadata": {},
   "outputs": [
    {
     "name": "stdout",
     "output_type": "stream",
     "text": [
      "The nearest value which when squared is less than the number under investigation is:  1\n"
     ]
    }
   ],
   "source": [
    "#Find largest integer n whose square is less than the number under investigation\n",
    "\n",
    "# Value of number for which square root is sought\n",
    "num = 2\n",
    "\n",
    "# Variable to contain answer\n",
    "nearestValue = 0\n",
    "\n",
    "# Loop through all options until exact integer found, or i*i > num \n",
    "for i in range(num):\n",
    "    if i*i < num:\n",
    "        continue\n",
    "    if i*i == num:\n",
    "        nearestValue = i\n",
    "        break\n",
    "    if i*i > num:\n",
    "        nearestValue = i-1\n",
    "        break\n",
    "        \n",
    "# Prevent instances where nearestValue = 0\n",
    "if nearestValue == 0:\n",
    "    nearestValue = 1\n",
    "        \n",
    "# Print nearest integer\n",
    "print(\"The nearest value which when squared is less than the number under investigation is: \", nearestValue)"
   ]
  },
  {
   "cell_type": "markdown",
   "metadata": {},
   "source": [
    "This value now becomes the next number in the answer, and is added to the answer string"
   ]
  },
  {
   "cell_type": "code",
   "execution_count": 7,
   "metadata": {},
   "outputs": [],
   "source": [
    "#Create final answer string variable\n",
    "ans = ''\n",
    "\n",
    "# Add number to string\n",
    "ans += str(nearestValue)"
   ]
  },
  {
   "cell_type": "markdown",
   "metadata": {},
   "source": [
    "3. **Subtract square of largest integer from current number pair**\n",
    "\n",
    "The square of the value from the previous step is subtracted from the current number pair. The answer of this difference will now be added to the front of the next digit pair to create a new value to investigate."
   ]
  },
  {
   "cell_type": "code",
   "execution_count": 8,
   "metadata": {},
   "outputs": [
    {
     "name": "stdout",
     "output_type": "stream",
     "text": [
      "1\n"
     ]
    }
   ],
   "source": [
    "#Calculate square of nearestValue\n",
    "sqrNearestValue = nearestValue * nearestValue\n",
    "# print(sqrNearestValue)\n",
    "\n",
    "#Subtract sqrNearestValue from num\n",
    "nextNumber = num - sqrNearestValue\n",
    "print(nextNumber)"
   ]
  },
  {
   "cell_type": "markdown",
   "metadata": {},
   "source": [
    "4. **Move to the next pair of values in the number of investigation**\n",
    "\n",
    "Place the next two values next to the answer calculated in the step above. Where no values exist, use zeros instead. To achieve this, one can merely multiple the answer above by 100."
   ]
  },
  {
   "cell_type": "code",
   "execution_count": 9,
   "metadata": {},
   "outputs": [
    {
     "name": "stdout",
     "output_type": "stream",
     "text": [
      "nextNumber:  100\n"
     ]
    }
   ],
   "source": [
    "#Multiply nextNumber by 100\n",
    "nextNumber = nextNumber * 100\n",
    "print('nextNumber: ', nextNumber)"
   ]
  },
  {
   "cell_type": "markdown",
   "metadata": {},
   "source": [
    "Multiply the current answer by 2. This will be used in the next step"
   ]
  },
  {
   "cell_type": "code",
   "execution_count": 10,
   "metadata": {},
   "outputs": [
    {
     "name": "stdout",
     "output_type": "stream",
     "text": [
      "currentAnswer:  2\n"
     ]
    }
   ],
   "source": [
    "#Multiply current ans by 2\n",
    "currentAnswer = int(ans) * 2\n",
    "print('currentAnswer: ', currentAnswer)"
   ]
  },
  {
   "cell_type": "markdown",
   "metadata": {},
   "source": [
    "5. **Find the right value match**\n",
    "\n",
    "The next step is to use the value from the previous step, and identify what single integer, when placed at the end of that value and the whole value is multiplied by the same integer, is less than or equal to the nextNumber."
   ]
  },
  {
   "cell_type": "code",
   "execution_count": 11,
   "metadata": {},
   "outputs": [
    {
     "name": "stdout",
     "output_type": "stream",
     "text": [
      "nextAnswer:  4\n"
     ]
    }
   ],
   "source": [
    "#Identify the integer that completes the following equation and is less than the nextNumber: currentAnswery * y <= nextNumber\n",
    "for i in range(1,11): #up to 11 to include the possibility of 9 being the integer\n",
    "    testNumber = int(str(currentAnswer) + str(i)) * i\n",
    "    if testNumber < nextNumber:\n",
    "        continue\n",
    "    if testNumber == nextNumber:\n",
    "        nextAnswer = i\n",
    "        testNumber = int(str(currentAnswer) + str(i)) * i\n",
    "        # print('integer i is: ', i)\n",
    "        break\n",
    "    if testNumber > nextNumber:\n",
    "        nextAnswer = i - 1\n",
    "        testNumber = int(str(currentAnswer) + str(i-1)) * (i-1)\n",
    "        #print('integer i is: ', i-1)\n",
    "        break\n",
    "#print('testNumber: ', testNumber)\n",
    "print('nextAnswer: ',nextAnswer)"
   ]
  },
  {
   "cell_type": "markdown",
   "metadata": {},
   "source": [
    "This value then becomes the next value in the root answer."
   ]
  },
  {
   "cell_type": "code",
   "execution_count": 12,
   "metadata": {},
   "outputs": [
    {
     "name": "stdout",
     "output_type": "stream",
     "text": [
      "ans:  14\n"
     ]
    }
   ],
   "source": [
    "#Add nextAnswer to answer\n",
    "ans += str(nextAnswer)\n",
    "print('ans: ',ans)"
   ]
  },
  {
   "cell_type": "markdown",
   "metadata": {},
   "source": [
    "6. **Identify the next number**\n",
    "\n",
    "Once again, subtract the total of the value identified in step 5 from the value on the left (*will need to elaborate on what is meant by L and R*)"
   ]
  },
  {
   "cell_type": "code",
   "execution_count": 13,
   "metadata": {},
   "outputs": [
    {
     "name": "stdout",
     "output_type": "stream",
     "text": [
      "nextNumber:  4\n"
     ]
    }
   ],
   "source": [
    "#Get the nextNumber\n",
    "lastNumber = nextNumber\n",
    "nextNumber = lastNumber - testNumber\n",
    "print('nextNumber: ', nextNumber)"
   ]
  },
  {
   "cell_type": "markdown",
   "metadata": {},
   "source": [
    "7. **Repeat steps 4 to 6 for the total number of decimal spaces required**\n",
    "\n",
    "Repeat the steps until you have total number of decimal spaces required in the answer. This can be achieved by placing the above into a `while` loop as below."
   ]
  },
  {
   "cell_type": "code",
   "execution_count": 14,
   "metadata": {},
   "outputs": [
    {
     "name": "stdout",
     "output_type": "stream",
     "text": [
      "ans:  14142135623730950488016887242096980785696718753769480731766797379907324784621070388503875343276415727\n"
     ]
    }
   ],
   "source": [
    "#FROM HERE TO END LOOPS UNTIL 100 DECIMAL SPACES#\n",
    "while len(ans) < (100 + nearestValue):\n",
    "#Multiply nextNumber by 100\n",
    "    nextNumber = nextNumber * 100\n",
    "    #print('nextNumber: ', nextNumber)\n",
    "\n",
    "    #Multiply current ans by 2\n",
    "    currentAnswer = int(ans) * 2\n",
    "    #print('currentAnswer: ', currentAnswer)\n",
    "\n",
    "    #Identify the integer that completes the following equation and is less than the nextNumber: currentAnswery * y <= nextNumber\n",
    "    for i in range(1,11): #up to 11 to include the possibility of 9 being the integer\n",
    "        testNumber = int(str(currentAnswer) + str(i)) * i\n",
    "        if testNumber < nextNumber:\n",
    "            continue\n",
    "        if testNumber == nextNumber:\n",
    "            nextAnswer = i\n",
    "            testNumber = int(str(currentAnswer) + str(i)) * i\n",
    "            #print('integer i is: ', i)\n",
    "            break\n",
    "        if testNumber > nextNumber:\n",
    "            nextAnswer = i - 1\n",
    "            testNumber = int(str(currentAnswer) + str(i-1)) * (i-1)\n",
    "            #print('integer i is: ', i-1)\n",
    "            break\n",
    "    #print('testNumber: ', testNumber)\n",
    "    #print('nextAnswer: ',nextAnswer)\n",
    "\n",
    "    #Add nextAnswer to answer\n",
    "    ans += str(nextAnswer)\n",
    "    #print('ans: ',ans)\n",
    "\n",
    "    #Get the nextNumber\n",
    "    lastNumber = nextNumber\n",
    "    nextNumber = lastNumber - testNumber\n",
    "    #print('nextNumber: ', nextNumber)\n",
    "    #print('line break - next iteration starts after this')\n",
    "    #print()\n",
    "    \n",
    "print(\"ans: \", ans)"
   ]
  },
  {
   "cell_type": "markdown",
   "metadata": {},
   "source": [
    "The issue, however, is that the answer does not contain a decimal point. Inserting the decimal point can be done by determining the length of the string created by the `nearestValue`, and inserting a decimal point into the string after that value. For example, the square root of 16 is 4. The length of 4 as a string is 1, therefore the decimal will be placed after the first digit in the string. Likewise, the square root of 120 is 10.95. The `nearestValue` for calculating the square root of 120 is 10 (10** = 100). The length of 10 as a string is 2. Therefore, the decimal point will be palced after the second digit in the string. And so on."
   ]
  },
  {
   "cell_type": "code",
   "execution_count": 15,
   "metadata": {},
   "outputs": [
    {
     "name": "stdout",
     "output_type": "stream",
     "text": [
      "ans:  1.4142135623730950488016887242096980785696718753769480731766797379907324784621070388503875343276415727\n"
     ]
    }
   ],
   "source": [
    "#Place decimal point at appropriate place\n",
    "ans = ans[0:len(str(nearestValue))] + '.' + ans[len(str(nearestValue)):]\n",
    "print(\"ans: \", ans)"
   ]
  },
  {
   "cell_type": "markdown",
   "metadata": {},
   "source": [
    "The final `function` for the long division algorithm which incorporates all of the steps is below. The commented out `print` statements are for debugging purposes."
   ]
  },
  {
   "cell_type": "code",
   "execution_count": 24,
   "metadata": {},
   "outputs": [
    {
     "name": "stdout",
     "output_type": "stream",
     "text": [
      "The long division square root of 123 to 20 decimal spaces is 11.09053650640941716205\n"
     ]
    }
   ],
   "source": [
    "def sqrtLongDiv(num, decSpaces):\n",
    "    largestInteger = 0\n",
    "    ans = ''\n",
    "    nextAnswer = 0\n",
    "\n",
    "    #Find largest integer n whose square is less than num\n",
    "    for i in range(num+1):\n",
    "        if i*i < num:\n",
    "            continue\n",
    "        if i*i == num:\n",
    "            largestInteger = i\n",
    "            break\n",
    "        if i*i > num:\n",
    "            largestInteger = i-1\n",
    "            break\n",
    "\n",
    "    #print(largestInteger)\n",
    "\n",
    "    #Add integer to answer\n",
    "    ans += str(largestInteger)\n",
    "    #print(ans)\n",
    "\n",
    "    #Calculate square of largestInteger\n",
    "    sqrLargestInteger = largestInteger*largestInteger\n",
    "    #print(sqrLargestInteger)\n",
    "\n",
    "    #Subtract sqrLargestInteger from num\n",
    "    nextNumber = num - sqrLargestInteger\n",
    "    #print(nextNumber)\n",
    "\n",
    "    #FROM HERE TO END LOOPS UNTIL 100 DECIMAL SPACES#\n",
    "    while len(ans) < (decSpaces + len(str(largestInteger))):\n",
    "    #Multiply nextNumber by 100\n",
    "        nextNumber = nextNumber * 100\n",
    "        #print('nextNumber: ', nextNumber)\n",
    "\n",
    "        #Multiply current ans by 2\n",
    "        currentAnswer = int(ans) * 2\n",
    "        #print('currentAnswer: ', currentAnswer)\n",
    "\n",
    "        #Identify the integer that completes the following equation and is less than the nextNumber: currentAnswery * y <= nextNumber\n",
    "        for i in range(1,11): #up to 11 to include the possibility of 9 being the integer\n",
    "            testNumber = int(str(currentAnswer) + str(i)) * i\n",
    "            if testNumber < nextNumber:\n",
    "                continue\n",
    "            if testNumber == nextNumber:\n",
    "                nextAnswer = i\n",
    "                testNumber = int(str(currentAnswer) + str(i)) * i\n",
    "                #print('integer i is: ', i)\n",
    "                break\n",
    "            if testNumber > nextNumber:\n",
    "                nextAnswer = i - 1\n",
    "                testNumber = int(str(currentAnswer) + str(i-1)) * (i-1)\n",
    "                #print('integer i is: ', i-1)\n",
    "                break\n",
    "        #print('testNumber: ', testNumber)\n",
    "        #print('nextAnswer: ',nextAnswer)\n",
    "\n",
    "        #Add nextAnswer to answer\n",
    "        ans += str(nextAnswer)\n",
    "        #print('ans: ',ans)\n",
    "\n",
    "        #Get the nextNumber\n",
    "        lastNumber = nextNumber\n",
    "        nextNumber = lastNumber - testNumber\n",
    "        #print('nextNumber: ', nextNumber)\n",
    "        #print('line break - next iteration starts after this')\n",
    "\n",
    "    #Place decimal point at appropriate place\n",
    "    ans = ans[0:len(str(largestInteger))] + '.' + ans[len(str(largestInteger)):]\n",
    "\n",
    "    return ans\n",
    "\n",
    "#Run function with designated number\n",
    "num = 123\n",
    "decSpaces = 20\n",
    "print(\"The long division square root of\", num,\"to\", decSpaces,\"decimal spaces is\", sqrtLongDiv(num, decSpaces))"
   ]
  },
  {
   "cell_type": "markdown",
   "metadata": {},
   "source": [
    "## Final output as required\n",
    "\n",
    "The brief requested a single function `sqrt2` to 100 decimal spaces. Below is that function and output."
   ]
  },
  {
   "cell_type": "code",
   "execution_count": 26,
   "metadata": {},
   "outputs": [
    {
     "name": "stdout",
     "output_type": "stream",
     "text": [
      "The square root of 2 to 100 decimal spaces is:\n",
      "1.4142135623730950488016887242096980785696718753769480731766797379907324784621070388503875343276415727\n"
     ]
    }
   ],
   "source": [
    "def sqrt2():\n",
    "    largestInteger = 0\n",
    "    ans = ''\n",
    "    nextAnswer = 0\n",
    "    num = 2\n",
    "\n",
    "    #Find largest integer n whose square is less than num\n",
    "    for i in range(num+1):\n",
    "        if i*i < num:\n",
    "            continue\n",
    "        if i*i == num:\n",
    "            largestInteger = i\n",
    "            break\n",
    "        if i*i > num:\n",
    "            largestInteger = i-1\n",
    "            break\n",
    "\n",
    "    #print(largestInteger)\n",
    "\n",
    "    #Add integer to answer\n",
    "    ans += str(largestInteger)\n",
    "    #print(ans)\n",
    "\n",
    "    #Calculate square of largestInteger\n",
    "    sqrLargestInteger = largestInteger*largestInteger\n",
    "    #print(sqrLargestInteger)\n",
    "\n",
    "    #Subtract sqrLargestInteger from num\n",
    "    nextNumber = num - sqrLargestInteger\n",
    "    #print(nextNumber)\n",
    "\n",
    "    #FROM HERE TO END LOOPS UNTIL 100 DECIMAL SPACES#\n",
    "    while len(ans) < (100 + len(str(largestInteger))):\n",
    "    #Multiply nextNumber by 100\n",
    "        nextNumber = nextNumber * 100\n",
    "        #print('nextNumber: ', nextNumber)\n",
    "\n",
    "        #Multiply current ans by 2\n",
    "        currentAnswer = int(ans) * 2\n",
    "        #print('currentAnswer: ', currentAnswer)\n",
    "\n",
    "        #Identify the integer that completes the following equation and is less than the nextNumber: currentAnswery * y <= nextNumber\n",
    "        for i in range(1,11): #up to 11 to include the possibility of 9 being the integer\n",
    "            testNumber = int(str(currentAnswer) + str(i)) * i\n",
    "            if testNumber < nextNumber:\n",
    "                continue\n",
    "            if testNumber == nextNumber:\n",
    "                nextAnswer = i\n",
    "                testNumber = int(str(currentAnswer) + str(i)) * i\n",
    "                #print('integer i is: ', i)\n",
    "                break\n",
    "            if testNumber > nextNumber:\n",
    "                nextAnswer = i - 1\n",
    "                testNumber = int(str(currentAnswer) + str(i-1)) * (i-1)\n",
    "                #print('integer i is: ', i-1)\n",
    "                break\n",
    "        #print('testNumber: ', testNumber)\n",
    "        #print('nextAnswer: ',nextAnswer)\n",
    "\n",
    "        #Add nextAnswer to answer\n",
    "        ans += str(nextAnswer)\n",
    "        #print('ans: ',ans)\n",
    "\n",
    "        #Get the nextNumber\n",
    "        lastNumber = nextNumber\n",
    "        nextNumber = lastNumber - testNumber\n",
    "        #print('nextNumber: ', nextNumber)\n",
    "        #print('line break - next iteration starts after this')\n",
    "\n",
    "    #Place decimal point at appropriate place\n",
    "    ans = ans[0:len(str(largestInteger))] + '.' + ans[len(str(largestInteger)):]\n",
    "\n",
    "    return ans\n",
    "\n",
    "# Print out answer\n",
    "print(\"The square root of 2 to 100 decimal spaces is:\")\n",
    "print(sqrt2())"
   ]
  },
  {
   "cell_type": "markdown",
   "metadata": {},
   "source": [
    "## Compare answer\n",
    "\n",
    "The algorithm veracity is tested against a string of the square root of 2 calculated to 1 million digits [6]. "
   ]
  },
  {
   "cell_type": "code",
   "execution_count": 46,
   "metadata": {},
   "outputs": [
    {
     "name": "stdout",
     "output_type": "stream",
     "text": [
      "1.4142135623730950488016887242096980785696718753769480731766797379907324784621\n",
      "07038850387534327641572\n",
      "<class 'str'>\n",
      "<class 'str'>\n",
      "102\n",
      "102\n"
     ]
    },
    {
     "data": {
      "text/plain": [
       "False"
      ]
     },
     "execution_count": 46,
     "metadata": {},
     "output_type": "execute_result"
    }
   ],
   "source": [
    "#Get string from website extract\n",
    "nasaImport = '''1.4142135623730950488016887242096980785696718753769480731766797379907324784621\n",
    "07038850387534327641572735013846230912297024924836055850737212644121497099935831\n",
    "41322266592750559275579995050115278206057147010955997160597027453459686201472851'''\n",
    "\n",
    "#Create string of 100 decimal spaces (up to 102 values to include first digit and decimal point)\n",
    "sqrt2Nasa = str(nasaImport[0:102])\n",
    "\n",
    "print(sqrt2Nasa)\n",
    "#Compare Nasa string with algorithm\n",
    "print(type(sqrt2()))\n",
    "print(type(sqrt2Nasa))\n",
    "print(len(sqrt2()))\n",
    "print(len(sqrt2Nasa))\n",
    "\n",
    "sqrt2Nasa == sqrt2()\n"
   ]
  },
  {
   "cell_type": "code",
   "execution_count": null,
   "metadata": {},
   "outputs": [],
   "source": []
  },
  {
   "cell_type": "code",
   "execution_count": null,
   "metadata": {},
   "outputs": [],
   "source": []
  },
  {
   "cell_type": "markdown",
   "metadata": {},
   "source": [
    "### References\n",
    "[1] Wiki reference - https://en.wikipedia.org/wiki/Methods_of_computing_square_roots\n",
    "\n",
    "[2] MIT maths ref - https://math.mit.edu/~stevenj/18.335/newton-sqrt.pdf\n",
    "\n",
    "[3] Hackernoon ref - https://hackernoon.com/calculating-the-square-root-of-a-number-using-the-newton-raphson-method-a-how-to-guide-yr4e32zo\n",
    "\n",
    "[4] Python decimal package - https://docs.python.org/3.8/library/decimal.html\n",
    "\n",
    "[5] Square root long hand - https://www.freecodecamp.org/news/find-square-root-of-number-calculate-by-hand/\n",
    "\n",
    "[6] Square root to 1 million decimal spaces - https://apod.nasa.gov/htmltest/gifcity/sqrt2.1mil\n"
   ]
  },
  {
   "cell_type": "code",
   "execution_count": null,
   "metadata": {},
   "outputs": [],
   "source": []
  }
 ],
 "metadata": {
  "kernelspec": {
   "display_name": "Python 3",
   "language": "python",
   "name": "python3"
  },
  "language_info": {
   "codemirror_mode": {
    "name": "ipython",
    "version": 3
   },
   "file_extension": ".py",
   "mimetype": "text/x-python",
   "name": "python",
   "nbconvert_exporter": "python",
   "pygments_lexer": "ipython3",
   "version": "3.8.3"
  }
 },
 "nbformat": 4,
 "nbformat_minor": 4
}
