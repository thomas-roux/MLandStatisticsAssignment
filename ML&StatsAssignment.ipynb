{
 "cells": [
  {
   "cell_type": "markdown",
   "metadata": {},
   "source": [
    "# Machine Learning and Statistics Assignment, 2020\n",
    "***"
   ]
  },
  {
   "cell_type": "markdown",
   "metadata": {},
   "source": [
    "## CONTENTS\n",
    "1. [Task 1](#task1): calculate `sqrt2` to 100 decimal spaces without using imported modules\n",
    "2. [Task 2](#task2): calculate Chi-square statistic using `scipy.stats` module\n",
    "3. [Task 3](#task3): explain the difference between `STDDEV.S` and `STDDEV.P` in Excel, and show why `STDDEV.S` is a better estimator of population standard deviation when working with a sample\n",
    "4. [Task 4](#task4): Apply `k`-means clustering to Fisher's Iris dataset"
   ]
  },
  {
   "cell_type": "markdown",
   "metadata": {},
   "source": [
    "***\n",
    "<a id=\"task1\"></a>\n",
    "## Task 1\n",
    "The first task is to write a Python function called `sqrt2` that returns the square root of 2 to 100 decimal spaces without making use of any imported modules. \n",
    "\n",
    "There are several known methods [[1]](#refs). Here, we will look at two methods. Note that the methods described below only calculate the square root of whole numbers, not real numbers. "
   ]
  },
  {
   "cell_type": "markdown",
   "metadata": {},
   "source": [
    "### Method 1: Newton's Method\n",
    "This method is thought to date back to the Babylonians circa 1000 BC [[2]](#refs). It determines the square root of a number with increasing accuracy through each iteration. This is achieved in the following way [[3]](#refs):\n",
    "\n",
    "1. **Make a reasonable guess for the square root**\n",
    "\n",
    "   A reasonable way would be to identify the nearest whole integer that, when squared, comes closest to the value  under investigation. The following piece of `code` demonstrates:"
   ]
  },
  {
   "cell_type": "code",
   "execution_count": 1,
   "metadata": {},
   "outputs": [],
   "source": [
    "#Find largest integer n whose square is less than the number under investigation, in this case, 10\n",
    "\n",
    "# Value of number for which square root is sought\n",
    "num = 20\n",
    "\n",
    "# Variable to contain answer\n",
    "nearestValue = 0\n",
    "\n",
    "# Loop through all options until exact integer found, or i*i > num \n",
    "for i in range(num):\n",
    "    if i*i < num:\n",
    "        continue\n",
    "    if i*i == num:\n",
    "        nearestValue = i\n",
    "        break\n",
    "    if i*i > num:\n",
    "        nearestValue = i-1\n",
    "        break\n",
    "        \n",
    "# Prevent instances where nearestValue = 0\n",
    "if nearestValue == 0:\n",
    "    nearestValue = 1"
   ]
  },
  {
   "cell_type": "code",
   "execution_count": 2,
   "metadata": {},
   "outputs": [
    {
     "name": "stdout",
     "output_type": "stream",
     "text": [
      "The nearest value which when squared is less than the number under investigation is:  4\n"
     ]
    }
   ],
   "source": [
    "# Print largest integer \n",
    "print(\"The nearest value which when squared is less than the number under investigation is: \", nearestValue)"
   ]
  },
  {
   "cell_type": "markdown",
   "metadata": {},
   "source": [
    "2. **Increase the precision of the approximate guess**\n",
    "\n",
    "   Add the above guessed root value to the original number under investigation divided by the guessed root value, and divide this final figure by 2: \n",
    "   \n",
    "$$x^{next} = \\frac{(x^{current} + \\frac{n}{x^{current}})}{2}$$\n",
    "   \n",
    "   "
   ]
  },
  {
   "cell_type": "code",
   "execution_count": 3,
   "metadata": {},
   "outputs": [
    {
     "data": {
      "text/plain": [
       "4.5"
      ]
     },
     "execution_count": 3,
     "metadata": {},
     "output_type": "execute_result"
    }
   ],
   "source": [
    "# Increase the precision of the answer from the previous step\n",
    "nextNum = (nearestValue + (num/nearestValue))/2\n",
    "\n",
    "nextNum"
   ]
  },
  {
   "cell_type": "markdown",
   "metadata": {},
   "source": [
    "3. **Repeat until the desired precision is achieved**\n",
    "\n",
    "   The `nextNum` value from step 2 gets reused in the calculation as the next best approximate guess until the desired precision of answer is achieved"
   ]
  },
  {
   "cell_type": "code",
   "execution_count": 4,
   "metadata": {},
   "outputs": [
    {
     "data": {
      "text/plain": [
       "4.472222222222222"
      ]
     },
     "execution_count": 4,
     "metadata": {},
     "output_type": "execute_result"
    }
   ],
   "source": [
    "# Use the previous answer as the next value in the equation\n",
    "nearestValue = nextNum\n",
    "\n",
    "# Repeat the equation\n",
    "nextNum = (nearestValue + (num/nearestValue))/2\n",
    "\n",
    "nextNum"
   ]
  },
  {
   "cell_type": "markdown",
   "metadata": {},
   "source": [
    "These steps can be placed into a single Python function, here called `sqrtNewton` [[3]](#refs). In this example, the user can adapt the precision as needed."
   ]
  },
  {
   "cell_type": "code",
   "execution_count": 5,
   "metadata": {},
   "outputs": [
    {
     "name": "stdout",
     "output_type": "stream",
     "text": [
      "The square root of 2 to the precision of 1e-10 decimal spaces is 1.4142135623746899\n"
     ]
    }
   ],
   "source": [
    "# Define variables\n",
    "precision = 10 ** (-10) # Specify number of decimal spaces\n",
    "num = 2 # Specify the number of which square root is sought\n",
    "\n",
    "# Create function\n",
    "def sqrtNewton(num):\n",
    "    # Find nearest value as starting guesstimate\n",
    "    nearestValue = 0\n",
    "    \n",
    "    for i in range(num):\n",
    "        if i*i < num:\n",
    "            continue\n",
    "        if i*i == num:\n",
    "            nearestValue = i\n",
    "            break\n",
    "        if i*i > num:\n",
    "            nearestValue = i-1\n",
    "            break\n",
    "    \n",
    "    # Prevent instances where nearestValue = 0\n",
    "    if nearestValue == 0:\n",
    "        nearestValue = 1\n",
    "        \n",
    "    # Loop through the equation until value with desired precision is identified\n",
    "    while abs(num - (nearestValue * nearestValue)) > precision:\n",
    "        nearestValue = (nearestValue + (num / nearestValue)) / 2\n",
    "    \n",
    "    # Return the value to the specified precision\n",
    "    return nearestValue\n",
    "\n",
    "#Print result\n",
    "print(\"The square root of\", num, \"to the precision of\", precision, \"decimal spaces is\", sqrtNewton(num))\n"
   ]
  },
  {
   "cell_type": "markdown",
   "metadata": {},
   "source": [
    "The **problem** here is that the display does not show beyond the 16th decimal space. The Python `decimal` module allows specifying the number of decimal spaces to display [[4]](#refs); however, the instructions for this task clearly stated that no imported modules are to be used. This is where the second method comes in."
   ]
  },
  {
   "cell_type": "markdown",
   "metadata": {},
   "source": [
    "## Method 2: Long Division Algorithm\n",
    "This method makes use of long division calculations by hand to determine each successive number in a square root answer [[5]](#refs). Because it allows determining each number in turn, it can be used to create a string of undetermined length without the limitation of decimal spaces display that is inherent in method 1. There are several steps involved:\n",
    "\n",
    "1. **Seperate the digits into pairs**\n",
    "\n",
    "This step is not needed, given that the issue here is the number of digits *after* the decimal. For whole numbers, the computer will be able to determine the square root without needing to break down into pairs."
   ]
  },
  {
   "cell_type": "markdown",
   "metadata": {},
   "source": [
    "2. **Find the largest integer**\n",
    "\n",
    "As before, this can be done with a `for` loop."
   ]
  },
  {
   "cell_type": "code",
   "execution_count": 6,
   "metadata": {},
   "outputs": [
    {
     "name": "stdout",
     "output_type": "stream",
     "text": [
      "The nearest value which when squared is less than the number under investigation is:  35\n"
     ]
    }
   ],
   "source": [
    "#Find largest integer n whose square is less than the number under investigation\n",
    "\n",
    "# Value of number for which square root is sought\n",
    "num = 1234\n",
    "\n",
    "# Variable to contain answer\n",
    "nearestValue = 0\n",
    "\n",
    "# Loop through all options until exact integer found, or i*i > num \n",
    "for i in range(num):\n",
    "    if i*i < num:\n",
    "        continue\n",
    "    if i*i == num:\n",
    "        nearestValue = i\n",
    "        break\n",
    "    if i*i > num:\n",
    "        nearestValue = i-1\n",
    "        break\n",
    "        \n",
    "# Prevent instances where nearestValue = 0\n",
    "if nearestValue == 0:\n",
    "    nearestValue = 1\n",
    "        \n",
    "# Print nearest integer\n",
    "print(\"The nearest value which when squared is less than the number under investigation is: \", nearestValue)"
   ]
  },
  {
   "cell_type": "markdown",
   "metadata": {},
   "source": [
    "This value now becomes the next number in the answer, and is added to the answer string"
   ]
  },
  {
   "cell_type": "code",
   "execution_count": 7,
   "metadata": {},
   "outputs": [
    {
     "name": "stdout",
     "output_type": "stream",
     "text": [
      "35\n"
     ]
    }
   ],
   "source": [
    "#Create final answer string variable\n",
    "ans = ''\n",
    "\n",
    "# Add number to string\n",
    "ans += str(nearestValue)\n",
    "print(ans)"
   ]
  },
  {
   "cell_type": "markdown",
   "metadata": {},
   "source": [
    "3. **Subtract square of largest integer from current number**\n",
    "\n",
    "The square of the value from the previous step is subtracted from the current number. The answer of this difference will now be added to the front of the next digit pair to create a new value to investigate."
   ]
  },
  {
   "cell_type": "code",
   "execution_count": 8,
   "metadata": {},
   "outputs": [
    {
     "name": "stdout",
     "output_type": "stream",
     "text": [
      "9\n"
     ]
    }
   ],
   "source": [
    "#Calculate square of nearestValue\n",
    "sqrNearestValue = nearestValue * nearestValue\n",
    "# print(sqrNearestValue)\n",
    "\n",
    "#Subtract sqrNearestValue from num\n",
    "nextNumber = num - sqrNearestValue\n",
    "print(nextNumber)"
   ]
  },
  {
   "cell_type": "markdown",
   "metadata": {},
   "source": [
    "4. **Move to the next pair of values in the number under investigation**\n",
    "\n",
    "Place the next two values next to the answer calculated in the step above. Where no values exist, use zeros instead. To achieve this, one can merely multiple the answer above by 100."
   ]
  },
  {
   "cell_type": "code",
   "execution_count": 9,
   "metadata": {},
   "outputs": [
    {
     "name": "stdout",
     "output_type": "stream",
     "text": [
      "nextNumber:  900\n"
     ]
    }
   ],
   "source": [
    "#Multiply nextNumber by 100\n",
    "nextNumber = nextNumber * 100\n",
    "print('nextNumber: ', nextNumber)"
   ]
  },
  {
   "cell_type": "markdown",
   "metadata": {},
   "source": [
    "Multiply the current answer by 2. This will be used in the next step"
   ]
  },
  {
   "cell_type": "code",
   "execution_count": 10,
   "metadata": {},
   "outputs": [
    {
     "name": "stdout",
     "output_type": "stream",
     "text": [
      "currentAnswer:  70\n"
     ]
    }
   ],
   "source": [
    "#Multiply current ans by 2\n",
    "currentAnswer = int(ans) * 2\n",
    "print('currentAnswer: ', currentAnswer)"
   ]
  },
  {
   "cell_type": "markdown",
   "metadata": {},
   "source": [
    "5. **Find the right value match**\n",
    "\n",
    "The next step is to use the value from the previous step, and identify what single integer, when placed at the end of that value and the whole value is multiplied by the same integer, is less than or equal to the nextNumber."
   ]
  },
  {
   "cell_type": "code",
   "execution_count": 11,
   "metadata": {},
   "outputs": [
    {
     "name": "stdout",
     "output_type": "stream",
     "text": [
      "testNumber:  701\n",
      "nextAnswer:  1\n"
     ]
    }
   ],
   "source": [
    "#Identify the integer that completes the following equation and is less than the nextNumber: currentAnswery * y <= nextNumber\n",
    "for i in range(1,11): #up to 11 to include the possibility of 9 being the integer\n",
    "    testNumber = int(str(currentAnswer) + str(i)) * i\n",
    "    if testNumber < nextNumber:\n",
    "        continue\n",
    "    if testNumber == nextNumber:\n",
    "        nextAnswer = i\n",
    "        testNumber = int(str(currentAnswer) + str(i)) * i\n",
    "        # print('integer i is: ', i)\n",
    "        break\n",
    "    if testNumber > nextNumber:\n",
    "        nextAnswer = i - 1\n",
    "        testNumber = int(str(currentAnswer) + str(i-1)) * (i-1)\n",
    "        #print('integer i is: ', i-1)\n",
    "        break\n",
    "print('testNumber: ', testNumber)\n",
    "print('nextAnswer: ',nextAnswer)"
   ]
  },
  {
   "cell_type": "markdown",
   "metadata": {},
   "source": [
    "This `nextAnswer` value then becomes the next value in the root answer."
   ]
  },
  {
   "cell_type": "code",
   "execution_count": 12,
   "metadata": {},
   "outputs": [
    {
     "name": "stdout",
     "output_type": "stream",
     "text": [
      "ans:  351\n"
     ]
    }
   ],
   "source": [
    "#Add nextAnswer to answer\n",
    "ans += str(nextAnswer)\n",
    "print('ans: ',ans)"
   ]
  },
  {
   "cell_type": "markdown",
   "metadata": {},
   "source": [
    "6. **Identify the next number**\n",
    "\n",
    "Once again, subtract the total of the value identified in step 5 from the value on the left"
   ]
  },
  {
   "cell_type": "code",
   "execution_count": 13,
   "metadata": {},
   "outputs": [
    {
     "name": "stdout",
     "output_type": "stream",
     "text": [
      "lastNumber: 900\n",
      "testNumber: 701\n",
      "nextNumber: 199\n"
     ]
    }
   ],
   "source": [
    "#Get the nextNumber\n",
    "lastNumber = nextNumber\n",
    "nextNumber = lastNumber - testNumber\n",
    "print('lastNumber:', lastNumber)\n",
    "print('testNumber:', testNumber)\n",
    "print('nextNumber:', nextNumber)"
   ]
  },
  {
   "cell_type": "markdown",
   "metadata": {},
   "source": [
    "7. **Repeat steps 4 to 6 for the total number of decimal spaces required**\n",
    "\n",
    "Repeat the steps until you have total number of decimal spaces required in the answer. This can be achieved by placing the above into a `while` loop as below."
   ]
  },
  {
   "cell_type": "code",
   "execution_count": 14,
   "metadata": {},
   "outputs": [
    {
     "name": "stdout",
     "output_type": "stream",
     "text": [
      "ans:  351283361405005916058703116253563067645404854787765405690202683926394175654576700713118864847740795362187533615970865896869519707927067\n"
     ]
    }
   ],
   "source": [
    "#FROM HERE TO END LOOPS UNTIL 100 DECIMAL SPACES#\n",
    "while len(ans) < (100 + nearestValue):\n",
    "#Multiply nextNumber by 100\n",
    "    nextNumber = nextNumber * 100\n",
    "    #print('nextNumber: ', nextNumber)\n",
    "\n",
    "    #Multiply current ans by 2\n",
    "    currentAnswer = int(ans) * 2\n",
    "    #print('currentAnswer: ', currentAnswer)\n",
    "\n",
    "    #Identify the integer that completes the following equation and is less than the nextNumber: currentAnswery * y <= nextNumber\n",
    "    for i in range(1,11): #up to 11 to include the possibility of 9 being the integer\n",
    "        testNumber = int(str(currentAnswer) + str(i)) * i\n",
    "        if testNumber < nextNumber:\n",
    "            continue\n",
    "        if testNumber == nextNumber:\n",
    "            nextAnswer = i\n",
    "            testNumber = int(str(currentAnswer) + str(i)) * i\n",
    "            #print('integer i is: ', i)\n",
    "            break\n",
    "        if testNumber > nextNumber:\n",
    "            nextAnswer = i - 1\n",
    "            testNumber = int(str(currentAnswer) + str(i-1)) * (i-1)\n",
    "            #print('integer i is: ', i-1)\n",
    "            break\n",
    "    #print('testNumber: ', testNumber)\n",
    "    #print('nextAnswer: ',nextAnswer)\n",
    "\n",
    "    #Add nextAnswer to answer\n",
    "    ans += str(nextAnswer)\n",
    "    #print('ans: ',ans)\n",
    "\n",
    "    #Get the nextNumber\n",
    "    lastNumber = nextNumber\n",
    "    nextNumber = lastNumber - testNumber\n",
    "    #print('nextNumber: ', nextNumber)\n",
    "    #print('line break - next iteration starts after this')\n",
    "    #print()\n",
    "    \n",
    "print(\"ans: \", ans)"
   ]
  },
  {
   "cell_type": "markdown",
   "metadata": {},
   "source": [
    "The issue, however, is that the answer does not contain a decimal point. Inserting the decimal point can be done by determining the length of the string created by the `nearestValue`, and inserting a decimal point into the string after that value. For example, the square root of 16 is 4. The length of 4 as a string is 1, therefore the decimal will be placed after the first digit in the string. Likewise, the square root of 120 is 10.95. The `nearestValue` for calculating the square root of 120 is 10 ($10^2 = 100$). The length of 10 as a string is 2. Therefore, the decimal point will be placed after the second digit in the string. And so on."
   ]
  },
  {
   "cell_type": "code",
   "execution_count": 15,
   "metadata": {},
   "outputs": [
    {
     "name": "stdout",
     "output_type": "stream",
     "text": [
      "ans:  35.1283361405005916058703116253563067645404854787765405690202683926394175654576700713118864847740795362187533615970865896869519707927067\n"
     ]
    }
   ],
   "source": [
    "#Place decimal point at appropriate place\n",
    "ans = ans[0:len(str(nearestValue))] + '.' + ans[len(str(nearestValue)):]\n",
    "print(\"ans: \", ans)"
   ]
  },
  {
   "cell_type": "markdown",
   "metadata": {},
   "source": [
    "The final `function` for the long division algorithm which incorporates all of the steps is below. The commented out `print` statements are for debugging purposes."
   ]
  },
  {
   "cell_type": "code",
   "execution_count": 16,
   "metadata": {},
   "outputs": [
    {
     "name": "stdout",
     "output_type": "stream",
     "text": [
      "The long division square root of 123 to 20 decimal spaces is 11.09053650640941716205\n"
     ]
    }
   ],
   "source": [
    "def sqrtLongDiv(num, decSpaces):\n",
    "    largestInteger = 0\n",
    "    ans = ''\n",
    "    nextAnswer = 0\n",
    "\n",
    "    #Find largest integer n whose square is less than num\n",
    "    for i in range(num+1):\n",
    "        if i*i < num:\n",
    "            continue\n",
    "        if i*i == num:\n",
    "            largestInteger = i\n",
    "            break\n",
    "        if i*i > num:\n",
    "            largestInteger = i-1\n",
    "            break\n",
    "    #print(largestInteger)\n",
    "    \n",
    "    # Prevent instances where largestInteger = 0\n",
    "    if largestInteger == 0:\n",
    "        largestInteger = 1\n",
    "\n",
    "    #Add integer to answer\n",
    "    ans += str(largestInteger)\n",
    "    #print(ans)\n",
    "\n",
    "    #Calculate square of largestInteger\n",
    "    sqrLargestInteger = largestInteger*largestInteger\n",
    "    #print(sqrLargestInteger)\n",
    "\n",
    "    #Subtract sqrLargestInteger from num\n",
    "    nextNumber = num - sqrLargestInteger\n",
    "    #print(nextNumber)\n",
    "\n",
    "    #FROM HERE TO END LOOPS UNTIL 100 DECIMAL SPACES#\n",
    "    while len(ans) < (decSpaces + len(str(largestInteger))):\n",
    "    #Multiply nextNumber by 100\n",
    "        nextNumber = nextNumber * 100\n",
    "        #print('nextNumber: ', nextNumber)\n",
    "\n",
    "        #Multiply current ans by 2\n",
    "        currentAnswer = int(ans) * 2\n",
    "        #print('currentAnswer: ', currentAnswer)\n",
    "\n",
    "        #Identify the integer that completes the following equation and is less than the nextNumber: currentAnswery * y <= nextNumber\n",
    "        for i in range(1,11): #up to 11 to include the possibility of 9 being the integer\n",
    "            testNumber = int(str(currentAnswer) + str(i)) * i\n",
    "            if testNumber < nextNumber:\n",
    "                continue\n",
    "            if testNumber == nextNumber:\n",
    "                nextAnswer = i\n",
    "                testNumber = int(str(currentAnswer) + str(i)) * i\n",
    "                #print('integer i is: ', i)\n",
    "                break\n",
    "            if testNumber > nextNumber:\n",
    "                nextAnswer = i - 1\n",
    "                testNumber = int(str(currentAnswer) + str(i-1)) * (i-1)\n",
    "                #print('integer i is: ', i-1)\n",
    "                break\n",
    "        #print('testNumber: ', testNumber)\n",
    "        #print('nextAnswer: ',nextAnswer)\n",
    "\n",
    "        #Add nextAnswer to answer\n",
    "        ans += str(nextAnswer)\n",
    "        #print('ans: ',ans)\n",
    "\n",
    "        #Get the nextNumber\n",
    "        lastNumber = nextNumber\n",
    "        nextNumber = lastNumber - testNumber\n",
    "        #print('nextNumber: ', nextNumber)\n",
    "        #print('line break - next iteration starts after this')\n",
    "\n",
    "    #Place decimal point at appropriate place\n",
    "    ans = ans[0:len(str(largestInteger))] + '.' + ans[len(str(largestInteger)):]\n",
    "\n",
    "    return ans\n",
    "\n",
    "#Run function with designated number\n",
    "num = 123\n",
    "decSpaces = 20\n",
    "print(\"The long division square root of\", num,\"to\", decSpaces,\"decimal spaces is\", sqrtLongDiv(num, decSpaces))"
   ]
  },
  {
   "cell_type": "markdown",
   "metadata": {},
   "source": [
    "## Final output as required\n",
    "\n",
    "The brief requested a single function `sqrt2` to 100 decimal spaces. Below is that function and output."
   ]
  },
  {
   "cell_type": "code",
   "execution_count": 17,
   "metadata": {},
   "outputs": [
    {
     "name": "stdout",
     "output_type": "stream",
     "text": [
      "The square root of 2 to 100 decimal spaces is:\n",
      "1.4142135623730950488016887242096980785696718753769480731766797379907324784621070388503875343276415727\n"
     ]
    }
   ],
   "source": [
    "def sqrt2():\n",
    "    largestInteger = 0\n",
    "    ans = ''\n",
    "    nextAnswer = 0\n",
    "    num = 2\n",
    "\n",
    "    #Find largest integer n whose square is less than num\n",
    "    for i in range(num+1):\n",
    "        if i*i < num:\n",
    "            continue\n",
    "        if i*i == num:\n",
    "            largestInteger = i\n",
    "            break\n",
    "        if i*i > num:\n",
    "            largestInteger = i-1\n",
    "            break\n",
    "\n",
    "    #print(largestInteger)\n",
    "\n",
    "    #Add integer to answer\n",
    "    ans += str(largestInteger)\n",
    "    #print(ans)\n",
    "\n",
    "    #Calculate square of largestInteger\n",
    "    sqrLargestInteger = largestInteger*largestInteger\n",
    "    #print(sqrLargestInteger)\n",
    "\n",
    "    #Subtract sqrLargestInteger from num\n",
    "    nextNumber = num - sqrLargestInteger\n",
    "    #print(nextNumber)\n",
    "\n",
    "    #FROM HERE TO END LOOPS UNTIL 100 DECIMAL SPACES#\n",
    "    while len(ans) < (100 + len(str(largestInteger))):\n",
    "    #Multiply nextNumber by 100\n",
    "        nextNumber = nextNumber * 100\n",
    "        #print('nextNumber: ', nextNumber)\n",
    "\n",
    "        #Multiply current ans by 2\n",
    "        currentAnswer = int(ans) * 2\n",
    "        #print('currentAnswer: ', currentAnswer)\n",
    "\n",
    "        #Identify the integer that completes the following equation and is less than the nextNumber: currentAnswery * y <= nextNumber\n",
    "        for i in range(1,11): #up to 11 to include the possibility of 9 being the integer\n",
    "            testNumber = int(str(currentAnswer) + str(i)) * i\n",
    "            if testNumber < nextNumber:\n",
    "                continue\n",
    "            if testNumber == nextNumber:\n",
    "                nextAnswer = i\n",
    "                testNumber = int(str(currentAnswer) + str(i)) * i\n",
    "                #print('integer i is: ', i)\n",
    "                break\n",
    "            if testNumber > nextNumber:\n",
    "                nextAnswer = i - 1\n",
    "                testNumber = int(str(currentAnswer) + str(i-1)) * (i-1)\n",
    "                #print('integer i is: ', i-1)\n",
    "                break\n",
    "        #print('testNumber: ', testNumber)\n",
    "        #print('nextAnswer: ',nextAnswer)\n",
    "\n",
    "        #Add nextAnswer to answer\n",
    "        ans += str(nextAnswer)\n",
    "        #print('ans: ',ans)\n",
    "\n",
    "        #Get the nextNumber\n",
    "        lastNumber = nextNumber\n",
    "        nextNumber = lastNumber - testNumber\n",
    "        #print('nextNumber: ', nextNumber)\n",
    "        #print('line break - next iteration starts after this')\n",
    "\n",
    "    #Place decimal point at appropriate place\n",
    "    ans = ans[0:len(str(largestInteger))] + '.' + ans[len(str(largestInteger)):]\n",
    "\n",
    "    return ans\n",
    "\n",
    "# Print out answer\n",
    "print(\"The square root of 2 to 100 decimal spaces is:\")\n",
    "print(sqrt2())"
   ]
  },
  {
   "cell_type": "markdown",
   "metadata": {},
   "source": [
    "## Compare answer\n",
    "\n",
    "The algorithm veracity is tested against a string of the square root of 2 calculated to 1 million digits [[6]](#refs). Note how there is no multi-line wrapping of the imported string - this will give you an error, as it reads in a `\\n` character."
   ]
  },
  {
   "cell_type": "code",
   "execution_count": 18,
   "metadata": {},
   "outputs": [
    {
     "name": "stdout",
     "output_type": "stream",
     "text": [
      "The function sqrt2 is equal to the first 100 decimal spaces of the square root of 2 as calculated by Nasa: True\n"
     ]
    }
   ],
   "source": [
    "#Get string from website extract\n",
    "nasaImport = '1.41421356237309504880168872420969807856967187537694807317667973799073247846210703885038753432764157273501384623091229702492483605585073721264412149709993583141322266592750559275579995050115278206057147010955997160597027453459686201472851'\n",
    "\n",
    "#Create string of 100 decimal spaces (up to 102 values to include first digit and decimal point)\n",
    "sqrt2Nasa = nasaImport[0:102]\n",
    "\n",
    "#print(len(sqrt2()))\n",
    "#print(len(sqrt2Nasa))\n",
    "\n",
    "#Compare Nasa string with algorithm\n",
    "print(\"The function sqrt2 is equal to the first 100 decimal spaces of the square root of 2 as calculated by Nasa:\", sqrt2Nasa == sqrt2())\n"
   ]
  },
  {
   "cell_type": "markdown",
   "metadata": {},
   "source": [
    "***\n",
    "\n",
    "<a id=\"task2\"></a>\n",
    "## Task 2\n",
    "The second task is to calculate the Chi-square test statistic of a table in Wikipedia [[7]](#refs) using `scipy.stats`, and confirm that the value is 24.6. In addition, the task asks to calculate the associated *p* value."
   ]
  },
  {
   "cell_type": "markdown",
   "metadata": {},
   "source": [
    "### Chi-square test\n",
    "The Chi square test is a statistical hypothesis test used to test for a relationship between categorical variables. It assumes that the variables being investigated are categorical and independent [[8]](#refs). It determines whether there is a relationship by comparing the *expected* values to the *observed* values for each category [[9]](#refs). As per any statistical test, it assumes a null hypothesis of no relationship; if the Chi square statistic is significantly different from a  critical value (determined by the degrees of freedom), then the null hypothesis is rejected. "
   ]
  },
  {
   "cell_type": "markdown",
   "metadata": {},
   "source": [
    "### Chi-square calculation\n",
    "The Chi-square statistic is the sum of the observed value minus the expected value squared, divided by the expected value, for each category. This is presented as follows [[10]](#refs):\n",
    "\n",
    "\\begin{equation}\n",
    "\\chi^2=\\Sigma\\frac{(O-E)^2}{E} \\\\\n",
    "\\text{where O is the actual value and E is the expected value.}\n",
    "\\end{equation}\n",
    "\n",
    "The expected value is determined by multiplying the row total by the column total, and dividing the answer by the grand total, as follows:\n",
    "\n",
    "$$expected\\ value\\ = \\frac{row\\ total\\ x\\ column\\ total}{grand\\ total}$$\n"
   ]
  },
  {
   "cell_type": "markdown",
   "metadata": {},
   "source": [
    "### Table of observed values\n",
    "The table from Wikipedia is presented below:"
   ]
  },
  {
   "cell_type": "code",
   "execution_count": 19,
   "metadata": {},
   "outputs": [
    {
     "data": {
      "text/html": [
       "<div>\n",
       "<style scoped>\n",
       "    .dataframe tbody tr th:only-of-type {\n",
       "        vertical-align: middle;\n",
       "    }\n",
       "\n",
       "    .dataframe tbody tr th {\n",
       "        vertical-align: top;\n",
       "    }\n",
       "\n",
       "    .dataframe thead th {\n",
       "        text-align: right;\n",
       "    }\n",
       "</style>\n",
       "<table border=\"1\" class=\"dataframe\">\n",
       "  <thead>\n",
       "    <tr style=\"text-align: right;\">\n",
       "      <th></th>\n",
       "      <th>A</th>\n",
       "      <th>B</th>\n",
       "      <th>C</th>\n",
       "      <th>D</th>\n",
       "      <th>Total</th>\n",
       "    </tr>\n",
       "  </thead>\n",
       "  <tbody>\n",
       "    <tr>\n",
       "      <th>White Collar</th>\n",
       "      <td>90</td>\n",
       "      <td>60</td>\n",
       "      <td>104</td>\n",
       "      <td>95</td>\n",
       "      <td>349</td>\n",
       "    </tr>\n",
       "    <tr>\n",
       "      <th>Blue Collar</th>\n",
       "      <td>30</td>\n",
       "      <td>50</td>\n",
       "      <td>51</td>\n",
       "      <td>20</td>\n",
       "      <td>151</td>\n",
       "    </tr>\n",
       "    <tr>\n",
       "      <th>No Collar</th>\n",
       "      <td>30</td>\n",
       "      <td>40</td>\n",
       "      <td>45</td>\n",
       "      <td>35</td>\n",
       "      <td>150</td>\n",
       "    </tr>\n",
       "    <tr>\n",
       "      <th>Total</th>\n",
       "      <td>150</td>\n",
       "      <td>150</td>\n",
       "      <td>200</td>\n",
       "      <td>150</td>\n",
       "      <td>650</td>\n",
       "    </tr>\n",
       "  </tbody>\n",
       "</table>\n",
       "</div>"
      ],
      "text/plain": [
       "                A    B    C    D  Total\n",
       "White Collar   90   60  104   95    349\n",
       "Blue Collar    30   50   51   20    151\n",
       "No Collar      30   40   45   35    150\n",
       "Total         150  150  200  150    650"
      ]
     },
     "execution_count": 19,
     "metadata": {},
     "output_type": "execute_result"
    }
   ],
   "source": [
    "#Import necessary modules\n",
    "import pandas as pd\n",
    "\n",
    "#Generate table - adapted from: https://towardsdatascience.com/gentle-introduction-to-chi-square-test-for-independence-7182a7414a95\n",
    "cells = pd.DataFrame([[90, 60, 104, 95], #Row 1, White collar\n",
    "         [30, 50, 51, 20],  #Row 2, Blue collar\n",
    "         [30, 40, 45, 35]   #Row 3, No collar\n",
    "        ],\n",
    "index = [\"White Collar\", \"Blue Collar\", \"No Collar\"],\n",
    "columns = [\"A\", \"B\", \"C\", \"D\"])\n",
    "\n",
    "#Add in columns totals to a new copy of cells, as chi2_contingency needs internal cell values only\n",
    "table = cells.copy()\n",
    "table.loc['Total',:] = table.sum(axis=0)\n",
    "\n",
    "#Add in row totals\n",
    "table.loc[:,'Total'] = table.sum(axis=1)\n",
    "\n",
    "#Tidy up display by converting all floating points to integers\n",
    "table = table.astype(int)\n",
    "\n",
    "#Display table\n",
    "table"
   ]
  },
  {
   "cell_type": "markdown",
   "metadata": {},
   "source": [
    "### Determination of Chi square statistic and associated values\n",
    "The method to use is the `stats.scipy.chi2_contingency`, as the table is larger than a 2x2, and this statistical test is the hypothesis test of independence of the observed frequencies in the contingency table. \n",
    "\n",
    "It takes an array-like structure, and the method returns the Chi square statistic, the *p* value, Degrees of freedom, and the expected frequencies, in that order, based on marginal values calculated by the method from the observed frequencies."
   ]
  },
  {
   "cell_type": "code",
   "execution_count": 20,
   "metadata": {},
   "outputs": [
    {
     "name": "stdout",
     "output_type": "stream",
     "text": [
      "The Chi square statistic is: 24.6\n",
      "The p value is: 0.0004\n",
      "The Degrees of Freedom are: 6\n",
      "The expected frequencies are:\n",
      "                   A      B       C      D\n",
      "White Collar  80.54  80.54  107.38  80.54\n",
      "Blue Collar   34.85  34.85   46.46  34.85\n",
      "No Collar     34.62  34.62   46.15  34.62\n"
     ]
    }
   ],
   "source": [
    "#Import necessary modules\n",
    "from scipy.stats import chi2_contingency\n",
    "import numpy as np\n",
    "\n",
    "#Turn table into a numpy array\n",
    "obs = np.array(cells)\n",
    "#print(obs)\n",
    "\n",
    "#Run chi2 contingency method\n",
    "chiStat, pVal, dof, expF = chi2_contingency(obs)\n",
    "\n",
    "#Print output\n",
    "print(\"The Chi square statistic is:\", round(chiStat,1))\n",
    "print(\"The p value is:\", round(pVal,4))\n",
    "print(\"The Degrees of Freedom are:\", dof)\n",
    "print(\"The expected frequencies are:\\n\", (pd.DataFrame(expF,index = [\"White Collar\", \"Blue Collar\", \"No Collar\"],\n",
    "columns = [\"A\", \"B\", \"C\", \"D\"])).round(2))\n"
   ]
  },
  {
   "cell_type": "markdown",
   "metadata": {},
   "source": [
    "## Discussion\n",
    "The Chi square statistic of 24.6 calculated by the `scipy.stats.ch2_contingency` method aligns with that in the Wikipedia article. When one compares the *expected* values in the above output to the *observed* values in the original table, it is evident that in some categories, there are large differences between these two values. This is reflected in the significant *p* value of 0.0004, reported as p < 0.05. \n",
    "\n",
    "We therefore reject the null hypothesis that there is no difference between a person's neighbourhood of residence based on their occupational class, and state that there is a statistically significant difference between the distribution of persons across each neighbourhood based on their occupational class. "
   ]
  },
  {
   "cell_type": "markdown",
   "metadata": {},
   "source": [
    "***\n",
    "<a id=\"task3\"></a>\n",
    "## Task 3\n",
    "The third task relates to one measure of dispersion around the mean, namely standard deviation. The task is to examine the difference between `STDDEV.S` and `STDDEV.P` in Excel, and then use `numpy` to explain why `STDDEV.S` is a better estimate for the standard deviation of a population when performed on a sample."
   ]
  },
  {
   "cell_type": "markdown",
   "metadata": {},
   "source": [
    "### What is a standard deviation?\n",
    "The standard deviation (SD) gives a measure of dispersement or spread of one's data around the mean [[11]](#refs). A small SD indicates that the data is gathered close to the mean (small spread), while a large SD indicates that data is spread out quite widely around the mean [[12]](#refs). The below image compares two populations with the same mean of 0, but with a SD of 1 and 3 respectively. Notice how the plot with SD of 3 is more dispersed around the mean of 0."
   ]
  },
  {
   "cell_type": "code",
   "execution_count": 21,
   "metadata": {},
   "outputs": [
    {
     "data": {
      "text/plain": [
       "<matplotlib.legend.Legend at 0x11c17c250>"
      ]
     },
     "execution_count": 21,
     "metadata": {},
     "output_type": "execute_result"
    },
    {
     "data": {
      "image/png": "[encoded data removed]",
      "text/plain": [
       "<Figure size 432x288 with 1 Axes>"
      ]
     },
     "metadata": {
      "needs_background": "light"
     },
     "output_type": "display_data"
    }
   ],
   "source": [
    "# Import necessary modules\n",
    "import numpy as np\n",
    "import seaborn as sns\n",
    "import matplotlib.pyplot as plt\n",
    "\n",
    "# Plot of 1,000 data points from a normal distribution with mean of 0 and SD of 1 - adapted from: https://stackoverflow.com/a/51758496\n",
    "value1 = np.around(np.random.normal(loc=0,scale=1,size=1000), 2)\n",
    "sns.distplot(value1, label=\"Mean 0, SD 1\")\n",
    "\n",
    "# Plot of 1,000 data points from a normal distribution with a mean of 0 and SD of 3\n",
    "value2 = np.around(np.random.normal(loc=0, scale = 3, size = 1000),2)\n",
    "sns.distplot(value2, label=\"Mean 0, SD 3\")\n",
    "\n",
    "# Show legend\n",
    "plt.legend()\n"
   ]
  },
  {
   "cell_type": "markdown",
   "metadata": {},
   "source": [
    "There are some interesting conclusions that can be gleaned from a SD when the data is distributed normally around the mean as in the above example. Roughly 68% of all data points will lie within ±1 SD of the mean, ~95% within ±2 SD of the mean, and ~99% within ±3 SD of the mean [[13]](#refs). One can evaluate that as follows:"
   ]
  },
  {
   "cell_type": "code",
   "execution_count": 22,
   "metadata": {},
   "outputs": [
    {
     "name": "stdout",
     "output_type": "stream",
     "text": [
      "The proportion of values between ±1 SD in a normal distribution with a mean of 0 and SD of 1 is 69.10%\n"
     ]
    }
   ],
   "source": [
    "'''Proportion of values within 1SD of value1 (from -1 to +1 around mean of 0)'''\n",
    "# Sort array\n",
    "value1.sort()\n",
    "\n",
    "# Extract all values between -1 and +1\n",
    "prop_sd1_value1 = []\n",
    "for value in value1:\n",
    "    if value < 1.0 and value > -1.0:\n",
    "        prop_sd1_value1.append(value)\n",
    "        \n",
    "# Determine proportion of values\n",
    "prop = len(prop_sd1_value1)/1000 * 100\n",
    "\n",
    "# Print result\n",
    "print(f\"The proportion of values between ±1 SD in a normal distribution with a mean of 0 and SD of 1 is {prop:.2f}%\")"
   ]
  },
  {
   "cell_type": "code",
   "execution_count": 23,
   "metadata": {},
   "outputs": [
    {
     "name": "stdout",
     "output_type": "stream",
     "text": [
      "The proportion of values between ±2 SD in a normal distribution with a mean of 0 and SD of 1 is 95.20%\n"
     ]
    }
   ],
   "source": [
    "'''Proportion of values within 2SD of value1 (from -2 to +2 around mean of 0)'''\n",
    "# Extract all values between -1 and +1\n",
    "prop_sd2_value1 = []\n",
    "for value in value1:\n",
    "    if value < 2.0 and value > -2.0:\n",
    "        prop_sd2_value1.append(value)\n",
    "        \n",
    "# Determine proportion of values\n",
    "prop = len(prop_sd2_value1)/1000 * 100\n",
    "\n",
    "# Print result\n",
    "print(f\"The proportion of values between ±2 SD in a normal distribution with a mean of 0 and SD of 1 is {prop:.2f}%\")"
   ]
  },
  {
   "cell_type": "code",
   "execution_count": 24,
   "metadata": {},
   "outputs": [
    {
     "name": "stdout",
     "output_type": "stream",
     "text": [
      "The proportion of values between ±3 SD in a normal distribution with a mean of 0 and SD of 1 is 99.70%\n"
     ]
    }
   ],
   "source": [
    "'''Proportion of values within 3SD of value1 (from -3 to +3 around mean of 0)'''\n",
    "# Extract all values between -1 and +1\n",
    "prop_sd3_value1 = []\n",
    "for value in value1:\n",
    "    if value < 3.0 and value > -3.0:\n",
    "        prop_sd3_value1.append(value)\n",
    "        \n",
    "# Determine proportion of values\n",
    "prop = len(prop_sd3_value1)/1000 * 100\n",
    "\n",
    "# Print result\n",
    "print(f\"The proportion of values between ±3 SD in a normal distribution with a mean of 0 and SD of 1 is {prop:.2f}%\")"
   ]
  },
  {
   "cell_type": "markdown",
   "metadata": {},
   "source": [
    "Finally, the SD is used in calculating the confidence interval (CI). A CI represents a range in which some value that we are interested in determining can be found [[14]](#refs). Oftentimes, a 95% CI interval is presented. As has been shown above, 2SD around a mean usually contain ~95% of all values in the sample or population (1.96SD is exactly 95%). It is this characteristic of the SD that is useful for determining a range in which a value can be found."
   ]
  },
  {
   "cell_type": "markdown",
   "metadata": {},
   "source": [
    "### Calculating standard deviation\n",
    "The equation for calculating the SD of a **population** is: \n",
    "$$\\sigma = \\sqrt{\\frac{\\Sigma(x_i - \\mu)}{N}}$$ where $\\sigma$ represents the population SD, $x_i$ is each value in the population, $\\mu$ is the population mean, and $N$ is the size of the population. \n",
    "\n",
    "The SD represents the spread of values around the mean, or put another way, how far a value is from the mean. This 'distance' can be represented by the difference between the value and a mean, represented as $x - \\mu$, where $x$ is the value, and $\\mu$ is the mean of all the data points. The mean is simply calculated by adding all the values in the data set together, and dividing by the number of values present. In other words, $\\frac{\\Sigma{x_i}}{N}$, where $x_i$ are each value in the data set, and $N$ is the total number of observations in the data set.\n",
    "\n",
    "If we merely added the difference for each $x - \\mu$, we would get a result of zero, because a value can be smaller or larger than the mean. For example, in an array of `[3,4,5,6,7]`, the mean is `5`. The difference between each value and the mean ($x - \\mu$) in turn is `[-2, -1, 0, 1, 2]`, which when added together equals zero. To prevent this, the value for each difference is squared: $\\Sigma(x - \\mu)^2$. This gives a positive array for each data point: `[4, 1, 0, 1, 4]`. The sum of this is now 10. This value is divided by the number of observations in the population, $N$, before the square root is applied to arrive at the population SD, $\\sigma$.\n",
    "\n",
    "More frequently, a sample of a population is examined. The equation for calculating the SD of a **sample** is: \n",
    "\n",
    "$$s = \\sqrt{\\frac{\\Sigma(x_i - \\overline x)}{n - 1}}$$ \n",
    "\n",
    "where $s$ represents the sample SD, $x_i$ is each value in the sample, $\\overline x$ is the sample mean, and $n$ is the sample size. \n",
    "\n",
    "The main difference between these two equations is in the denominator: population SD makes use of the *whole* population size, while sample SD makes use of the sample size minus one. It is this difference that is conveyed in the different Excel functions: `STDDEV.P` is used to calculate the SD of a *whole* population (e.g. all children in a class of interest), while `STDDEV.S` is used to calculate the SD of a *sample* of the population (e.g. a handful of children from the class of interest) [[15]](#refs). Because it is often difficult to measure a complete population (either because the population is too big to measure in it's entirety, or the true size of the population is difficult to define), a sample is used. In the next section, we will use `numpy` to look at why using the sample equation (denominator $n-1$) is a better estimator of the SD than the population equation (denominator $N$)."
   ]
  },
  {
   "cell_type": "markdown",
   "metadata": {},
   "source": [
    "### Sample Standard Deviation Calculation example\n",
    "Let's create a dataset of random numbers on a normal distribution between 0 and 85 representing the age of a population. Let's assume that this data set represents the WHOLE population of interest."
   ]
  },
  {
   "cell_type": "code",
   "execution_count": 25,
   "metadata": {},
   "outputs": [
    {
     "name": "stdout",
     "output_type": "stream",
     "text": [
      "Values range from a minimum of 0 to 85, with a mean of 41.4, and a population standard deviation of 24.9.\n"
     ]
    }
   ],
   "source": [
    "#Create array\n",
    "pop = np.random.randint(0, 86, 1000)\n",
    "pop.sort()\n",
    "#print(pop)\n",
    "print(f\"Values range from a minimum of {pop[0]} to {pop[-1]}, with a mean of {sum(pop)/len(pop):.1f}, and a population standard deviation of {np.std(pop):.1f}.\")"
   ]
  },
  {
   "cell_type": "markdown",
   "metadata": {},
   "source": [
    "Let's now assume that we take a sample from this population, because we cannot access the whole population to measure age. Ideally, we want to get as close to the actual SD of the population as possible using the sample. We randomly sample 10 observations from the population. We repeat this sampling 50 times, and determine the average *population* SD of all these samples."
   ]
  },
  {
   "cell_type": "code",
   "execution_count": 26,
   "metadata": {},
   "outputs": [
    {
     "name": "stdout",
     "output_type": "stream",
     "text": [
      "The average SD using a population calculation for a random sample of size 10 repeated 50 times from the same population is 23.7.\n",
      "This differs from the true population SD by 1.2.\n"
     ]
    }
   ],
   "source": [
    "#Create list to store each result of population SD\n",
    "avg_pop_sd = []\n",
    "\n",
    "#Create sample and run 50 times\n",
    "for i in range(50):\n",
    "    sample = np.random.choice(pop, 10, replace=False)\n",
    "    avg_pop_sd.append(round(np.std(sample),1))\n",
    "    \n",
    "#print(avg_sample_sd)\n",
    "print(f\"The average SD using a population calculation for a random sample of size 10 repeated 50 times from the same population is {sum(avg_pop_sd)/len(avg_pop_sd):.1f}.\")\n",
    "print(f\"This differs from the true population SD by {abs(np.std(pop) - (sum(avg_pop_sd)/len(avg_pop_sd))):.1f}.\")"
   ]
  },
  {
   "cell_type": "markdown",
   "metadata": {},
   "source": [
    "In the next step, we repeat this process, but apply the *sample* SD calculation of $n-1$."
   ]
  },
  {
   "cell_type": "code",
   "execution_count": 27,
   "metadata": {},
   "outputs": [
    {
     "name": "stdout",
     "output_type": "stream",
     "text": [
      "The average SD using a sample calculation for a random sample of size 10 repeated 50 times from the same population is 25.2.\n",
      "This differs from the true population SD by 0.3.\n"
     ]
    }
   ],
   "source": [
    "#Create list to store each result of population SD\n",
    "avg_sample_sd = []\n",
    "\n",
    "#Create sample and run 50 times\n",
    "for i in range(50):\n",
    "    sample = np.random.choice(pop, 10, replace=False)\n",
    "    avg_sample_sd.append(round(np.std(sample, ddof=1),1))\n",
    "    \n",
    "#print(avg_sample_sd)\n",
    "print(f\"The average SD using a sample calculation for a random sample of size 10 repeated 50 times from the same population is {sum(avg_sample_sd)/len(avg_sample_sd):.1f}.\")\n",
    "print(f\"This differs from the true population SD by {abs(np.std(pop) - (sum(avg_sample_sd)/len(avg_sample_sd))):.1f}.\")"
   ]
  },
  {
   "cell_type": "markdown",
   "metadata": {},
   "source": [
    "### Discussion\n",
    "The above indicates that the use of `STDDEV.S` offers a better approximation of the population SD than `STDDEV.P` when studying a sample of a population. When the whole population is known and measured, `STDDEV.P` should be used, as this calculates the true SD. "
   ]
  },
  {
   "cell_type": "markdown",
   "metadata": {},
   "source": [
    "***\n",
    "<a id=\"task4\"></a>\n",
    "## Task 4\n",
    "The final task requires using `scikit-learn` to apply k-means clustering to Fisher's Iris dataset. "
   ]
  },
  {
   "cell_type": "markdown",
   "metadata": {},
   "source": [
    "### K-means clustering\n",
    "K-means clustering is a method of unsupervised machine learning that groups together similar points in a dataset by identifying clusters of data objects in a dataset [[16]](#refs). This is achieved by first telling the algorithm how many clusters (k) the data should be seperated into. The algorithm then selects k number of random points in the dataset as the centre of the starting clusters. These centres are referred to as the centroid. Each datapoint is then assigned to the nearest centroid. The algorithm then calculates the mean of all the datapoints, and repositions the centroid to this calculated value. After the new centroid is calculated, all the datapoints are again reassigned to the new nearest centroid and hence, new cluster. The process repeats until no datapoints change to new clusters, i.e. the centroid does not change [[17]](#refs).\n",
    "\n",
    "Becuase the initial starting centroids are chosen at random, k-means will provide different results each time [[16]](#refs). For this reason, the algorithm is usually run several times, with cluster assignments leading to the lowest sum of the squared error (SSE: the sum of the squared Euclidean distance of each point to its closest centroid) been selected as the final result [[17]](#refs)."
   ]
  },
  {
   "cell_type": "markdown",
   "metadata": {},
   "source": [
    "### Determining starting cluster size *k*\n",
    "Because k-means is a method of unsupervised machine learning, we don't usually know how many clusters, or in this case Iris species, to expect (even though we know it's three). There are two ways of determining an appropriate cluster size [[17]](#refs). Here we'll look at one, the **elbow method**.\n",
    "\n",
    "#### The elbow method\n",
    "The elbow method runs through repeated k-means calculations with increasing number of k, recording the SSE for each iteration. The k is plotted against the SEE for each iteration. Because the 'best' cluster distribution is usually that with the smallest SSE, the the number k with the smallest SSE would be preferred. However, there is a trade-off between k and SSE - the smaller the cluster, the less 'meaningful' the cluster becomes. So a 'sweet spot' is usually sought, right where the SSE curve starts to bend like an elbow. Hence, the elbow method. \n",
    "\n",
    "In the next section, we'll look at the iris dataset and perform a k-means clustering."
   ]
  },
  {
   "cell_type": "markdown",
   "metadata": {},
   "source": [
    "### Import the Iris dataset\n",
    "`scikit-learn` contains a copy of the Iris dataset. This can be imported from the `scikit-learn` package."
   ]
  },
  {
   "cell_type": "code",
   "execution_count": 28,
   "metadata": {},
   "outputs": [
    {
     "data": {
      "text/plain": [
       "array([[5.1, 3.5, 1.4, 0.2],\n",
       "       [4.9, 3. , 1.4, 0.2],\n",
       "       [4.7, 3.2, 1.3, 0.2],\n",
       "       [4.6, 3.1, 1.5, 0.2],\n",
       "       [5. , 3.6, 1.4, 0.2],\n",
       "       [5.4, 3.9, 1.7, 0.4],\n",
       "       [4.6, 3.4, 1.4, 0.3],\n",
       "       [5. , 3.4, 1.5, 0.2],\n",
       "       [4.4, 2.9, 1.4, 0.2],\n",
       "       [4.9, 3.1, 1.5, 0.1],\n",
       "       [5.4, 3.7, 1.5, 0.2],\n",
       "       [4.8, 3.4, 1.6, 0.2],\n",
       "       [4.8, 3. , 1.4, 0.1],\n",
       "       [4.3, 3. , 1.1, 0.1],\n",
       "       [5.8, 4. , 1.2, 0.2],\n",
       "       [5.7, 4.4, 1.5, 0.4],\n",
       "       [5.4, 3.9, 1.3, 0.4],\n",
       "       [5.1, 3.5, 1.4, 0.3],\n",
       "       [5.7, 3.8, 1.7, 0.3],\n",
       "       [5.1, 3.8, 1.5, 0.3],\n",
       "       [5.4, 3.4, 1.7, 0.2],\n",
       "       [5.1, 3.7, 1.5, 0.4],\n",
       "       [4.6, 3.6, 1. , 0.2],\n",
       "       [5.1, 3.3, 1.7, 0.5],\n",
       "       [4.8, 3.4, 1.9, 0.2],\n",
       "       [5. , 3. , 1.6, 0.2],\n",
       "       [5. , 3.4, 1.6, 0.4],\n",
       "       [5.2, 3.5, 1.5, 0.2],\n",
       "       [5.2, 3.4, 1.4, 0.2],\n",
       "       [4.7, 3.2, 1.6, 0.2],\n",
       "       [4.8, 3.1, 1.6, 0.2],\n",
       "       [5.4, 3.4, 1.5, 0.4],\n",
       "       [5.2, 4.1, 1.5, 0.1],\n",
       "       [5.5, 4.2, 1.4, 0.2],\n",
       "       [4.9, 3.1, 1.5, 0.2],\n",
       "       [5. , 3.2, 1.2, 0.2],\n",
       "       [5.5, 3.5, 1.3, 0.2],\n",
       "       [4.9, 3.6, 1.4, 0.1],\n",
       "       [4.4, 3. , 1.3, 0.2],\n",
       "       [5.1, 3.4, 1.5, 0.2],\n",
       "       [5. , 3.5, 1.3, 0.3],\n",
       "       [4.5, 2.3, 1.3, 0.3],\n",
       "       [4.4, 3.2, 1.3, 0.2],\n",
       "       [5. , 3.5, 1.6, 0.6],\n",
       "       [5.1, 3.8, 1.9, 0.4],\n",
       "       [4.8, 3. , 1.4, 0.3],\n",
       "       [5.1, 3.8, 1.6, 0.2],\n",
       "       [4.6, 3.2, 1.4, 0.2],\n",
       "       [5.3, 3.7, 1.5, 0.2],\n",
       "       [5. , 3.3, 1.4, 0.2],\n",
       "       [7. , 3.2, 4.7, 1.4],\n",
       "       [6.4, 3.2, 4.5, 1.5],\n",
       "       [6.9, 3.1, 4.9, 1.5],\n",
       "       [5.5, 2.3, 4. , 1.3],\n",
       "       [6.5, 2.8, 4.6, 1.5],\n",
       "       [5.7, 2.8, 4.5, 1.3],\n",
       "       [6.3, 3.3, 4.7, 1.6],\n",
       "       [4.9, 2.4, 3.3, 1. ],\n",
       "       [6.6, 2.9, 4.6, 1.3],\n",
       "       [5.2, 2.7, 3.9, 1.4],\n",
       "       [5. , 2. , 3.5, 1. ],\n",
       "       [5.9, 3. , 4.2, 1.5],\n",
       "       [6. , 2.2, 4. , 1. ],\n",
       "       [6.1, 2.9, 4.7, 1.4],\n",
       "       [5.6, 2.9, 3.6, 1.3],\n",
       "       [6.7, 3.1, 4.4, 1.4],\n",
       "       [5.6, 3. , 4.5, 1.5],\n",
       "       [5.8, 2.7, 4.1, 1. ],\n",
       "       [6.2, 2.2, 4.5, 1.5],\n",
       "       [5.6, 2.5, 3.9, 1.1],\n",
       "       [5.9, 3.2, 4.8, 1.8],\n",
       "       [6.1, 2.8, 4. , 1.3],\n",
       "       [6.3, 2.5, 4.9, 1.5],\n",
       "       [6.1, 2.8, 4.7, 1.2],\n",
       "       [6.4, 2.9, 4.3, 1.3],\n",
       "       [6.6, 3. , 4.4, 1.4],\n",
       "       [6.8, 2.8, 4.8, 1.4],\n",
       "       [6.7, 3. , 5. , 1.7],\n",
       "       [6. , 2.9, 4.5, 1.5],\n",
       "       [5.7, 2.6, 3.5, 1. ],\n",
       "       [5.5, 2.4, 3.8, 1.1],\n",
       "       [5.5, 2.4, 3.7, 1. ],\n",
       "       [5.8, 2.7, 3.9, 1.2],\n",
       "       [6. , 2.7, 5.1, 1.6],\n",
       "       [5.4, 3. , 4.5, 1.5],\n",
       "       [6. , 3.4, 4.5, 1.6],\n",
       "       [6.7, 3.1, 4.7, 1.5],\n",
       "       [6.3, 2.3, 4.4, 1.3],\n",
       "       [5.6, 3. , 4.1, 1.3],\n",
       "       [5.5, 2.5, 4. , 1.3],\n",
       "       [5.5, 2.6, 4.4, 1.2],\n",
       "       [6.1, 3. , 4.6, 1.4],\n",
       "       [5.8, 2.6, 4. , 1.2],\n",
       "       [5. , 2.3, 3.3, 1. ],\n",
       "       [5.6, 2.7, 4.2, 1.3],\n",
       "       [5.7, 3. , 4.2, 1.2],\n",
       "       [5.7, 2.9, 4.2, 1.3],\n",
       "       [6.2, 2.9, 4.3, 1.3],\n",
       "       [5.1, 2.5, 3. , 1.1],\n",
       "       [5.7, 2.8, 4.1, 1.3],\n",
       "       [6.3, 3.3, 6. , 2.5],\n",
       "       [5.8, 2.7, 5.1, 1.9],\n",
       "       [7.1, 3. , 5.9, 2.1],\n",
       "       [6.3, 2.9, 5.6, 1.8],\n",
       "       [6.5, 3. , 5.8, 2.2],\n",
       "       [7.6, 3. , 6.6, 2.1],\n",
       "       [4.9, 2.5, 4.5, 1.7],\n",
       "       [7.3, 2.9, 6.3, 1.8],\n",
       "       [6.7, 2.5, 5.8, 1.8],\n",
       "       [7.2, 3.6, 6.1, 2.5],\n",
       "       [6.5, 3.2, 5.1, 2. ],\n",
       "       [6.4, 2.7, 5.3, 1.9],\n",
       "       [6.8, 3. , 5.5, 2.1],\n",
       "       [5.7, 2.5, 5. , 2. ],\n",
       "       [5.8, 2.8, 5.1, 2.4],\n",
       "       [6.4, 3.2, 5.3, 2.3],\n",
       "       [6.5, 3. , 5.5, 1.8],\n",
       "       [7.7, 3.8, 6.7, 2.2],\n",
       "       [7.7, 2.6, 6.9, 2.3],\n",
       "       [6. , 2.2, 5. , 1.5],\n",
       "       [6.9, 3.2, 5.7, 2.3],\n",
       "       [5.6, 2.8, 4.9, 2. ],\n",
       "       [7.7, 2.8, 6.7, 2. ],\n",
       "       [6.3, 2.7, 4.9, 1.8],\n",
       "       [6.7, 3.3, 5.7, 2.1],\n",
       "       [7.2, 3.2, 6. , 1.8],\n",
       "       [6.2, 2.8, 4.8, 1.8],\n",
       "       [6.1, 3. , 4.9, 1.8],\n",
       "       [6.4, 2.8, 5.6, 2.1],\n",
       "       [7.2, 3. , 5.8, 1.6],\n",
       "       [7.4, 2.8, 6.1, 1.9],\n",
       "       [7.9, 3.8, 6.4, 2. ],\n",
       "       [6.4, 2.8, 5.6, 2.2],\n",
       "       [6.3, 2.8, 5.1, 1.5],\n",
       "       [6.1, 2.6, 5.6, 1.4],\n",
       "       [7.7, 3. , 6.1, 2.3],\n",
       "       [6.3, 3.4, 5.6, 2.4],\n",
       "       [6.4, 3.1, 5.5, 1.8],\n",
       "       [6. , 3. , 4.8, 1.8],\n",
       "       [6.9, 3.1, 5.4, 2.1],\n",
       "       [6.7, 3.1, 5.6, 2.4],\n",
       "       [6.9, 3.1, 5.1, 2.3],\n",
       "       [5.8, 2.7, 5.1, 1.9],\n",
       "       [6.8, 3.2, 5.9, 2.3],\n",
       "       [6.7, 3.3, 5.7, 2.5],\n",
       "       [6.7, 3. , 5.2, 2.3],\n",
       "       [6.3, 2.5, 5. , 1.9],\n",
       "       [6.5, 3. , 5.2, 2. ],\n",
       "       [6.2, 3.4, 5.4, 2.3],\n",
       "       [5.9, 3. , 5.1, 1.8]])"
      ]
     },
     "execution_count": 28,
     "metadata": {},
     "output_type": "execute_result"
    }
   ],
   "source": [
    "#Import necessary modules\n",
    "import numpy as np\n",
    "import sklearn.cluster as skcl\n",
    "import matplotlib.pyplot as plt\n",
    "\n",
    "#Import datasets (https://scikit-learn.org/stable/tutorial/basic/tutorial.html#loading-example-dataset)\n",
    "from sklearn import datasets\n",
    "\n",
    "#Load data\n",
    "dataset = datasets.load_iris()\n",
    "irisMeasurements = dataset.data\n",
    "irisMeasurements"
   ]
  },
  {
   "cell_type": "markdown",
   "metadata": {},
   "source": [
    "There are 150 entries in the dataset. Each column represents, in turn: Sepal Length (sl), Sepal Width (sw), Petal Length (pl), Petal Width (pw) [[18]](#refs). In addition, the dataset has classified each observation according to the type of Iris: Iris-Setosa, Iris-Versicolour, Iris-Virginica. These are recorded as 0, 1 or 2 respectively."
   ]
  },
  {
   "cell_type": "code",
   "execution_count": 29,
   "metadata": {},
   "outputs": [
    {
     "data": {
      "text/plain": [
       "array([0, 0, 0, 0, 0, 0, 0, 0, 0, 0, 0, 0, 0, 0, 0, 0, 0, 0, 0, 0, 0, 0,\n",
       "       0, 0, 0, 0, 0, 0, 0, 0, 0, 0, 0, 0, 0, 0, 0, 0, 0, 0, 0, 0, 0, 0,\n",
       "       0, 0, 0, 0, 0, 0, 1, 1, 1, 1, 1, 1, 1, 1, 1, 1, 1, 1, 1, 1, 1, 1,\n",
       "       1, 1, 1, 1, 1, 1, 1, 1, 1, 1, 1, 1, 1, 1, 1, 1, 1, 1, 1, 1, 1, 1,\n",
       "       1, 1, 1, 1, 1, 1, 1, 1, 1, 1, 1, 1, 2, 2, 2, 2, 2, 2, 2, 2, 2, 2,\n",
       "       2, 2, 2, 2, 2, 2, 2, 2, 2, 2, 2, 2, 2, 2, 2, 2, 2, 2, 2, 2, 2, 2,\n",
       "       2, 2, 2, 2, 2, 2, 2, 2, 2, 2, 2, 2, 2, 2, 2, 2, 2, 2])"
      ]
     },
     "execution_count": 29,
     "metadata": {},
     "output_type": "execute_result"
    }
   ],
   "source": [
    "#Display classification of each datapoint\n",
    "dataset['target']"
   ]
  },
  {
   "cell_type": "markdown",
   "metadata": {},
   "source": [
    "### Determine an appropriate number for k\n",
    "We are assuming that we don't know there are 3 iris species in our data. So let's apply the elbow method and see how many clusters are 'advised'."
   ]
  },
  {
   "cell_type": "code",
   "execution_count": 30,
   "metadata": {},
   "outputs": [
    {
     "data": {
      "image/png": "[encoded data removed]",
      "text/plain": [
       "<Figure size 432x288 with 1 Axes>"
      ]
     },
     "metadata": {
      "needs_background": "light"
     },
     "output_type": "display_data"
    }
   ],
   "source": [
    "#Applying the elbow method [adapted from https://predictivehacks.com/k-means-elbow-method-code-for-python/]\n",
    "#Create blank list to store SSE\n",
    "sse = []\n",
    "\n",
    "#Run through 7 clusters determining SSE for each\n",
    "for k in range (1,8):\n",
    "    kmeans = skcl.KMeans(n_clusters = k)\n",
    "    kmeans.fit(irisMeasurements)\n",
    "    sse.append(kmeans.inertia_)\n",
    "    \n",
    "#Display the results of SSE against k\n",
    "plt.plot(range(1,8), sse)\n",
    "plt.xlabel('Number of clusters, k')\n",
    "plt.ylabel('SSE')\n",
    "plt.title('The Elbow Method showing the optimal k')\n",
    "plt.show()"
   ]
  },
  {
   "cell_type": "markdown",
   "metadata": {},
   "source": [
    "As mentioned previously, we are looking for that sweet spot trade-off between cluster size and smallest SSE. From the above diagram, it would appear that there isn't much gain to be had above 3 clusters. So we will define 3 clusters for our kmeans clustering."
   ]
  },
  {
   "cell_type": "markdown",
   "metadata": {},
   "source": [
    "### Perform kmeans clustering on dataset"
   ]
  },
  {
   "cell_type": "code",
   "execution_count": 31,
   "metadata": {},
   "outputs": [
    {
     "data": {
      "text/plain": [
       "array([1, 1, 1, 1, 1, 1, 1, 1, 1, 1, 1, 1, 1, 1, 1, 1, 1, 1, 1, 1, 1, 1,\n",
       "       1, 1, 1, 1, 1, 1, 1, 1, 1, 1, 1, 1, 1, 1, 1, 1, 1, 1, 1, 1, 1, 1,\n",
       "       1, 1, 1, 1, 1, 1, 2, 2, 0, 2, 2, 2, 2, 2, 2, 2, 2, 2, 2, 2, 2, 2,\n",
       "       2, 2, 2, 2, 2, 2, 2, 2, 2, 2, 2, 0, 2, 2, 2, 2, 2, 2, 2, 2, 2, 2,\n",
       "       2, 2, 2, 2, 2, 2, 2, 2, 2, 2, 2, 2, 0, 2, 0, 0, 0, 0, 2, 0, 0, 0,\n",
       "       0, 0, 0, 2, 2, 0, 0, 0, 0, 2, 0, 2, 0, 2, 0, 0, 2, 2, 0, 0, 0, 0,\n",
       "       0, 2, 0, 0, 0, 0, 2, 0, 0, 0, 2, 0, 0, 0, 2, 0, 0, 2], dtype=int32)"
      ]
     },
     "execution_count": 31,
     "metadata": {},
     "output_type": "execute_result"
    }
   ],
   "source": [
    "#Instantiate algorithm for dataset, using a deterministic initialization of centroids\n",
    "kmIris = skcl.KMeans(n_clusters=3, random_state=0)\n",
    "\n",
    "#Fit data\n",
    "kmIris.fit(irisMeasurements)\n",
    "\n",
    "#Check labels\n",
    "kmIris.labels_"
   ]
  },
  {
   "cell_type": "markdown",
   "metadata": {},
   "source": [
    "We can see that there is some break in the continuity of clustering of the datapoints; numbers should run consecutively, i.e. 1,1,1,...2,2,2,...0,0,0. There should be no mixing of values. We can determine the size of each  cluster identified through kmeans to see the accuracy of the clustering, as we know that the target dataset is clustered contiguously in groups of 50 for each Iris species."
   ]
  },
  {
   "cell_type": "code",
   "execution_count": 32,
   "metadata": {},
   "outputs": [
    {
     "name": "stdout",
     "output_type": "stream",
     "text": [
      "In the first cluster of 50, there are 50 datapoints grouped to Iris Setosa (accuracy of 100.0%)\n",
      "In the second cluster of 50, there are 48 datapoints grouped to Iris Versicolor (accuracy of 96.0%)\n",
      "In the third cluster of 50, there are 36 datapoints grouped to Iris Virginica (accuracy of 72.0%)\n"
     ]
    }
   ],
   "source": [
    "#Count number of items in each cluster [taken from https://stackoverflow.com/a/5829377]\n",
    "from collections import Counter\n",
    "\n",
    "#Divide cluster result into clusters of 50 contiguous values\n",
    "#Convert to list to allow slicing\n",
    "calculatedLabels = list(kmIris.labels_)\n",
    "\n",
    "#Create clusters of 50\n",
    "cluster0 = calculatedLabels[0:50]\n",
    "cluster1 = calculatedLabels[50:100]\n",
    "cluster2 = calculatedLabels[100:]\n",
    "\n",
    "#Count values in each cluster and assign clusters to variables\n",
    "dict0 = Counter(cluster0)\n",
    "dict1 = Counter(cluster1)\n",
    "dict2 = Counter(cluster2)\n",
    "\n",
    "#Determine accuracy in each cluster\n",
    "print(f\"In the first cluster of 50, there are {dict0[1]} datapoints grouped to Iris Setosa (accuracy of {dict0[1]/50 * 100}%)\")\n",
    "print(f\"In the second cluster of 50, there are {dict1[2]} datapoints grouped to Iris Versicolor (accuracy of {dict1[2]/50 * 100}%)\")\n",
    "print(f\"In the third cluster of 50, there are {dict2[0]} datapoints grouped to Iris Virginica (accuracy of {dict2[0]/50 * 100}%)\")\n"
   ]
  },
  {
   "cell_type": "markdown",
   "metadata": {},
   "source": [
    "The kmeans clustering was only able to identify all objects from the Iris Setosa species correctly with 100% accuracy. It was only able to identify Iris Versicolor with 96% accuracy, and Iris Virginica with 72% accuracy. We can represent this visually in the following plots."
   ]
  },
  {
   "cell_type": "code",
   "execution_count": 33,
   "metadata": {},
   "outputs": [],
   "source": [
    "#Tidy up calculated array so that same colors are used between both plots\n",
    "cleanArray = []\n",
    "dirty = kmIris.labels_\n",
    "for i in dirty:\n",
    "    if i == 1:\n",
    "        cleanArray.append(0)\n",
    "    if i == 2:\n",
    "        cleanArray.append(1)\n",
    "    if i == 0:\n",
    "        cleanArray.append(2)"
   ]
  },
  {
   "cell_type": "code",
   "execution_count": 34,
   "metadata": {},
   "outputs": [
    {
     "data": {
      "text/plain": [
       "Text(0.5, 1.0, 'Calculated clustering')"
      ]
     },
     "execution_count": 34,
     "metadata": {},
     "output_type": "execute_result"
    },
    {
     "data": {
      "image/png": "[encoded data removed]",
      "text/plain": [
       "<Figure size 1152x576 with 2 Axes>"
      ]
     },
     "metadata": {
      "needs_background": "light"
     },
     "output_type": "display_data"
    }
   ],
   "source": [
    "#Visualise actual vs calculated clusters [adapted from https://medium.com/@belen.sanchez27/predicting-iris-flower-species-with-k-means-clustering-in-python-f6e46806aaee]\n",
    "\n",
    "#Plot side by side\n",
    "fig, axes = plt.subplots(1, 2, figsize=(16,8))\n",
    "\n",
    "#First plot of actual clusters\n",
    "axes[0].scatter(irisMeasurements[:, 0], irisMeasurements[:, 1], c=dataset['target'])\n",
    "axes[0].set_xlabel('Sepal length')\n",
    "axes[0].set_ylabel('Sepal width')\n",
    "axes[0].set_title('Actual clustering')\n",
    "\n",
    "\n",
    "#Second plot of calculated clusters\n",
    "axes[1].scatter(irisMeasurements[:, 0], irisMeasurements[:, 1], c=cleanArray)\n",
    "axes[1].set_xlabel('Sepal length')\n",
    "axes[1].set_ylabel('Sepal width')\n",
    "axes[1].set_title('Calculated clustering')"
   ]
  },
  {
   "cell_type": "markdown",
   "metadata": {},
   "source": [
    "### Discussion\n",
    "Kmeans clustering is a form of unsupervised machine learning. While it is useful in identifying common groupings in datasets of various shapes and sizes, it is limited by the need to identify starting number of clusters, and the fact that outliers can be excluded from the correct grouping, as seen above [[20]](#refs). "
   ]
  },
  {
   "cell_type": "markdown",
   "metadata": {},
   "source": [
    "***\n",
    "<a id=\"refs\"></a>\n",
    "### References\n",
    "[1] Wikipedia. Methods of computing square roots \\[Internet\\]. Wikimedia Foundation; 2020 \\[Last updated 2020 October 30\\]. Available from https://en.wikipedia.org/wiki/Methods_of_computing_square_roots\n",
    "\n",
    "[2] Johnson, SG. Square Roots via Newton's Method \\[published lecture notes\\] MIT; 2015 February 4 \\[Cited 2020 October 14\\]. Available at: https://math.mit.edu/~stevenj/18.335/newton-sqrt.pdf\n",
    "\n",
    "[3] Regmi, S. Calculating the Square Root of a Number using the  Newton-Raphson Method \\[A How To Guide\\]. \\[Internet\\] Hackernoon; 2020 \\[Last updated 2020 January 18; cited 2020 October 14\\] Available at https://hackernoon.com/calculating-the-square-root-of-a-number-using-the-newton-raphson-method-a-how-to-guide-yr4e32zo\n",
    "\n",
    "[4] Python Software Foundation. decimal — Decimal fixed point and floating point arithmetic \\[Internet\\]. Python Software Foundation; 2020. \\[Last updated 2020 October 31; cited 2020 October 10\\]. Available at https://docs.python.org/3.8/library/decimal.html\n",
    "\n",
    "[5] Arobelidze, A. How to find the square root of a number and calculate it by hand \\[Internet\\]. USA: FreeCodeCamp; 2020 \\[Last updated 2020 February 6; cited 2020 October 16\\] Available at https://www.freecodecamp.org/news/find-square-root-of-number-calculate-by-hand/\n",
    "\n",
    "[6] Nemirof, R and Bonnell, J. The Square Root of Two to 1 Million Digits \\[Internet\\].  Available from https://apod.nasa.gov/htmltest/gifcity/sqrt2.1mil\n",
    "\n",
    "[7] Wikipedia. Chi-squared test \\[Internet\\]. Wikimedia Foundation; 2020 \\[Last updated 2020 October 11; cited 2020 November 14\\]. Available from https://en.wikipedia.org/wiki/Chi-squared_test\n",
    "\n",
    "[8] Laerd Statistics. Chi-Square Test for Association using SPSS Statistics \\[Internet\\]. UK: Lund Lund Research Ltd. \\[Last updated 2018; cited 2020 November 14\\] Available from https://statistics.laerd.com/spss-tutorials/chi-square-test-for-association-using-spss-statistics.php\n",
    "\n",
    "[9] Glen, S. Chi-Square Statistic: How to Calculate It / Distribution \\[Internet\\]. StatisticsHowTo.com; 2020 \\[Last updated 2020; cited 2020 November 14\\] Available from https://www.statisticshowto.com/probability-and-statistics/chi-square/\n",
    "\n",
    "[10] Okada, S. Gentle Introduction to Chi-Square Test for Independence: Beginners guide to Chi-square using Jupyter Notebook \\[Internet\\]. Medium - towards data science; 2020. \\[Last updated 2020 January; cited 2020 November 14\\] Available from https://towardsdatascience.com/gentle-introduction-to-chi-square-test-for-independence-7182a7414a95#92ef\n",
    "\n",
    "[11] Glen, S. Standard Deviation: Simple Definition, Step by Step Video \\[Internet\\]. StatisticsHowTo.com; 2020 \\[Last updated 2020; cited 2020 November 24\\] Available from https://www.statisticshowto.com/probability-and-statistics/standard-deviation/#SDD\n",
    "\n",
    "[12] Wikipedia. Standard deviation \\[Internet\\]. Wikimedia Foundation; 2020 \\[Last updated 10 December 2020; cited 2020 November 24\\] Available from https://en.wikipedia.org/wiki/Standard_deviation\n",
    "\n",
    "[13] Hayes, A. Empirical Rule. \\[Internet\\] Investopedia; nd. \\[Last updated 2020 July 27; cited 2020 November 24\\] Available from https://www.investopedia.com/terms/e/empirical-rule.asp\n",
    "\n",
    "[14] Maths is Fun. Confidence Intervals \\[Internet\\]. MathsisFun.com; 2017 \\[Last updated 2017; cited 2020 November 24\\] Available from https://www.mathsisfun.com/data/confidence-interval.html\n",
    "\n",
    "[15] Microsoft. STDEV.S function \\[Internet\\]. USA: Microsoft; 2020 \\[Last updated 2020; cited 2020 November 24\\] Available from https://support.microsoft.com/en-us/office/stdev-s-function-7d69cf97-0c1f-4acf-be27-f3e83904cc23\n",
    "\n",
    "[16] Munnelly, G. K-Means \\[Internet\\]. Trinity College Dublin; 2017 \\[Last updated 2017; cited 2020 December 10\\] Available from https://www.scss.tcd.ie/~munnellg/projects/kmeans.html\n",
    "\n",
    "[17] Arvai, K. K-Means Clustering in Python: A Practical Guide \\[Internet\\]. Real Python; 2020 \\[Last updated 2020 July 20; cited 2020 December 10\\] Available from https://realpython.com/k-means-clustering-python/\n",
    "\n",
    "[18] scikit-learn developers. The Iris Dataset \\[Internet\\]. scikit-learn; 2020 \\[Last updated 2020; cited 2020 December 10\\] Available from https://scikit-learn.org/stable/auto_examples/datasets/plot_iris_dataset.html\n",
    "\n",
    "[19] Garbade, MJ. Understanding K-means Clustering in Machine Learning \\[Internet\\]. Medium - towards data science; 2020 \\[Last updated 2018 September 12; cited 2020 December 10\\] Available from https://towardsdatascience.com/understanding-k-means-clustering-in-machine-learning-6a6e67336aa1\n",
    "\n",
    "[20] Google. k-Means Advantages and Disadvantages \\[Internet\\]. Google Developers; 2020 \\[Last updated 2020 February 10; cited 2020 December 11\\] Available from https://developers.google.com/machine-learning/clustering/algorithm/advantages-disadvantages"
   ]
  }
 ],
 "metadata": {
  "kernelspec": {
   "display_name": "Python 3",
   "language": "python",
   "name": "python3"
  },
  "language_info": {
   "codemirror_mode": {
    "name": "ipython",
    "version": 3
   },
   "file_extension": ".py",
   "mimetype": "text/x-python",
   "name": "python",
   "nbconvert_exporter": "python",
   "pygments_lexer": "ipython3",
   "version": "3.8.3"
  }
 },
 "nbformat": 4,
 "nbformat_minor": 4
}
